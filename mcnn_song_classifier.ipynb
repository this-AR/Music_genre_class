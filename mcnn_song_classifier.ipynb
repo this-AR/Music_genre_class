{
  "nbformat": 4,
  "nbformat_minor": 0,
  "metadata": {
    "colab": {
      "provenance": [],
      "gpuType": "T4"
    },
    "kernelspec": {
      "name": "python3",
      "display_name": "Python 3"
    },
    "language_info": {
      "name": "python"
    },
    "accelerator": "GPU"
  },
  "cells": [
    {
      "cell_type": "code",
      "execution_count": null,
      "metadata": {
        "colab": {
          "base_uri": "https://localhost:8080/",
          "height": 1000
        },
        "id": "4lrcJVSvUsKr",
        "outputId": "5cf80c6e-14e6-4aba-b67e-31ae0ef98e9f"
      },
      "outputs": [
        {
          "output_type": "stream",
          "name": "stdout",
          "text": [
            "Downloading GTZAN dataset from KaggleHub...\n",
            "Note: Works automatically in Google Colab!\n",
            "Downloading from https://www.kaggle.com/api/v1/datasets/download/andradaolteanu/gtzan-dataset-music-genre-classification?dataset_version_number=1...\n"
          ]
        },
        {
          "output_type": "stream",
          "name": "stderr",
          "text": [
            "100%|██████████| 1.21G/1.21G [00:56<00:00, 23.0MB/s]"
          ]
        },
        {
          "output_type": "stream",
          "name": "stdout",
          "text": [
            "Extracting files...\n"
          ]
        },
        {
          "output_type": "stream",
          "name": "stderr",
          "text": [
            "\n"
          ]
        },
        {
          "output_type": "stream",
          "name": "stdout",
          "text": [
            "Downloaded dataset path: /root/.cache/kagglehub/datasets/andradaolteanu/gtzan-dataset-music-genre-classification/versions/1\n",
            "Looking for audio data at: /root/.cache/kagglehub/datasets/andradaolteanu/gtzan-dataset-music-genre-classification/versions/1/Data/genres_original\n",
            "GTZAN Music Genre Classification Pipeline\n",
            "============================================================\n",
            "TensorFlow version: 2.18.0\n",
            "Using GPU: PhysicalDevice(name='/physical_device:GPU:0', device_type='GPU')\n",
            "\n",
            "Preprocessing audio data...\n",
            "Starting preprocessing...\n",
            "Samples per segment: 66150\n",
            "MFCC vectors per segment: 130\n"
          ]
        },
        {
          "output_type": "stream",
          "name": "stderr",
          "text": [
            "\rProcessing Genres: 0it [00:00, ?it/s]"
          ]
        },
        {
          "output_type": "stream",
          "name": "stdout",
          "text": [
            "\n",
            "Genre 1: country\n"
          ]
        },
        {
          "output_type": "stream",
          "name": "stderr",
          "text": [
            "\n",
            "Files in country:   0%|          | 0/100 [00:00<?, ?it/s]\u001b[A\n",
            "Files in country:   1%|          | 1/100 [00:13<22:57, 13.91s/it]\u001b[A\n",
            "Files in country:   3%|▎         | 3/100 [00:14<05:55,  3.66s/it]\u001b[A\n",
            "Files in country:   5%|▌         | 5/100 [00:14<02:52,  1.82s/it]\u001b[A\n",
            "Files in country:   7%|▋         | 7/100 [00:14<01:40,  1.08s/it]\u001b[A\n",
            "Files in country:   9%|▉         | 9/100 [00:14<01:04,  1.42it/s]\u001b[A\n",
            "Files in country:  11%|█         | 11/100 [00:14<00:43,  2.07it/s]\u001b[A\n",
            "Files in country:  13%|█▎        | 13/100 [00:14<00:30,  2.88it/s]\u001b[A\n",
            "Files in country:  15%|█▌        | 15/100 [00:14<00:22,  3.86it/s]\u001b[A\n",
            "Files in country:  17%|█▋        | 17/100 [00:15<00:16,  4.98it/s]\u001b[A\n",
            "Files in country:  19%|█▉        | 19/100 [00:15<00:12,  6.24it/s]\u001b[A\n",
            "Files in country:  21%|██        | 21/100 [00:15<00:14,  5.49it/s]\u001b[A\n",
            "Files in country:  23%|██▎       | 23/100 [00:15<00:11,  6.65it/s]\u001b[A\n",
            "Files in country:  25%|██▌       | 25/100 [00:16<00:09,  7.86it/s]\u001b[A\n",
            "Files in country:  27%|██▋       | 27/100 [00:16<00:08,  8.98it/s]\u001b[A\n",
            "Files in country:  29%|██▉       | 29/100 [00:16<00:07,  9.97it/s]\u001b[A\n",
            "Files in country:  31%|███       | 31/100 [00:16<00:06, 10.36it/s]\u001b[A\n",
            "Files in country:  33%|███▎      | 33/100 [00:16<00:06, 11.05it/s]\u001b[A\n",
            "Files in country:  35%|███▌      | 35/100 [00:16<00:05, 11.67it/s]\u001b[A\n",
            "Files in country:  37%|███▋      | 37/100 [00:16<00:05, 12.13it/s]\u001b[A\n",
            "Files in country:  40%|████      | 40/100 [00:17<00:04, 14.08it/s]\u001b[A\n",
            "Files in country:  42%|████▏     | 42/100 [00:17<00:04, 13.74it/s]\u001b[A\n",
            "Files in country:  44%|████▍     | 44/100 [00:17<00:04, 13.03it/s]\u001b[A\n",
            "Files in country:  46%|████▌     | 46/100 [00:17<00:04, 12.70it/s]\u001b[A\n",
            "Files in country:  48%|████▊     | 48/100 [00:17<00:04, 12.83it/s]\u001b[A\n",
            "Files in country:  50%|█████     | 50/100 [00:17<00:03, 12.85it/s]\u001b[A\n",
            "Files in country:  52%|█████▏    | 52/100 [00:18<00:03, 12.81it/s]\u001b[A\n",
            "Files in country:  54%|█████▍    | 54/100 [00:18<00:03, 12.93it/s]\u001b[A\n",
            "Files in country:  56%|█████▌    | 56/100 [00:18<00:03, 13.06it/s]\u001b[A\n",
            "Files in country:  58%|█████▊    | 58/100 [00:18<00:03, 12.27it/s]\u001b[A\n",
            "Files in country:  60%|██████    | 60/100 [00:18<00:03, 12.44it/s]\u001b[A\n",
            "Files in country:  62%|██████▏   | 62/100 [00:18<00:03, 12.59it/s]\u001b[A\n",
            "Files in country:  64%|██████▍   | 64/100 [00:19<00:02, 12.53it/s]\u001b[A\n",
            "Files in country:  66%|██████▌   | 66/100 [00:19<00:02, 11.69it/s]\u001b[A\n",
            "Files in country:  68%|██████▊   | 68/100 [00:19<00:02, 11.97it/s]\u001b[A\n",
            "Files in country:  70%|███████   | 70/100 [00:19<00:02, 11.71it/s]\u001b[A\n",
            "Files in country:  72%|███████▏  | 72/100 [00:19<00:02, 12.04it/s]\u001b[A\n",
            "Files in country:  74%|███████▍  | 74/100 [00:19<00:02, 12.32it/s]\u001b[A\n",
            "Files in country:  76%|███████▌  | 76/100 [00:20<00:01, 12.52it/s]\u001b[A\n",
            "Files in country:  78%|███████▊  | 78/100 [00:20<00:01, 12.84it/s]\u001b[A\n",
            "Files in country:  80%|████████  | 80/100 [00:20<00:01, 12.91it/s]\u001b[A\n",
            "Files in country:  82%|████████▏ | 82/100 [00:20<00:01, 13.09it/s]\u001b[A\n",
            "Files in country:  84%|████████▍ | 84/100 [00:20<00:01, 12.23it/s]\u001b[A\n",
            "Files in country:  86%|████████▌ | 86/100 [00:20<00:01, 12.69it/s]\u001b[A\n",
            "Files in country:  88%|████████▊ | 88/100 [00:20<00:00, 13.00it/s]\u001b[A\n",
            "Files in country:  90%|█████████ | 90/100 [00:21<00:00, 12.86it/s]\u001b[A\n",
            "Files in country:  92%|█████████▏| 92/100 [00:21<00:00, 13.07it/s]\u001b[A\n",
            "Files in country:  95%|█████████▌| 95/100 [00:21<00:00, 14.93it/s]\u001b[A\n",
            "Files in country:  97%|█████████▋| 97/100 [00:21<00:00, 13.47it/s]\u001b[A\n",
            "Files in country:  99%|█████████▉| 99/100 [00:21<00:00, 11.59it/s]\u001b[A\n",
            "Processing Genres: 2it [00:21, 10.93s/it]"
          ]
        },
        {
          "output_type": "stream",
          "name": "stdout",
          "text": [
            "\n",
            "Genre 2: jazz\n"
          ]
        },
        {
          "output_type": "stream",
          "name": "stderr",
          "text": [
            "\n",
            "Files in jazz:   0%|          | 0/100 [00:00<?, ?it/s]\u001b[A\n",
            "Files in jazz:   1%|          | 1/100 [00:00<00:13,  7.55it/s]\u001b[A\n",
            "Files in jazz:   2%|▏         | 2/100 [00:00<00:17,  5.65it/s]\u001b[A\n",
            "Files in jazz:   3%|▎         | 3/100 [00:00<00:15,  6.23it/s]\u001b[A\n",
            "Files in jazz:   4%|▍         | 4/100 [00:00<00:25,  3.81it/s]\u001b[A\n",
            "Files in jazz:   5%|▌         | 5/100 [00:01<00:26,  3.62it/s]\u001b[A\n",
            "Files in jazz:   6%|▌         | 6/100 [00:01<00:31,  3.01it/s]\u001b[A\n",
            "Files in jazz:   7%|▋         | 7/100 [00:01<00:24,  3.74it/s]\u001b[A\n",
            "Files in jazz:   8%|▊         | 8/100 [00:01<00:20,  4.46it/s]\u001b[A\n",
            "Files in jazz:   9%|▉         | 9/100 [00:02<00:18,  5.01it/s]\u001b[A\n",
            "Files in jazz:  10%|█         | 10/100 [00:02<00:17,  5.08it/s]\u001b[A\n",
            "Files in jazz:  11%|█         | 11/100 [00:02<00:17,  5.22it/s]\u001b[A\n",
            "Files in jazz:  12%|█▏        | 12/100 [00:02<00:15,  5.83it/s]\u001b[A\n",
            "Files in jazz:  13%|█▎        | 13/100 [00:02<00:14,  6.00it/s]\u001b[A\n",
            "Files in jazz:  15%|█▌        | 15/100 [00:02<00:10,  7.81it/s]\u001b[A\n",
            "Files in jazz:  17%|█▋        | 17/100 [00:03<00:09,  8.69it/s]\u001b[A\n",
            "Files in jazz:  19%|█▉        | 19/100 [00:03<00:08,  9.90it/s]\u001b[A\n",
            "Files in jazz:  21%|██        | 21/100 [00:03<00:07, 10.94it/s]\u001b[A\n",
            "Files in jazz:  23%|██▎       | 23/100 [00:03<00:06, 11.57it/s]\u001b[A\n",
            "Files in jazz:  25%|██▌       | 25/100 [00:03<00:06, 11.94it/s]\u001b[A\n",
            "Files in jazz:  27%|██▋       | 27/100 [00:03<00:06, 12.16it/s]\u001b[A\n",
            "Files in jazz:  29%|██▉       | 29/100 [00:03<00:05, 12.43it/s]\u001b[A\n",
            "Files in jazz:  31%|███       | 31/100 [00:04<00:05, 12.03it/s]\u001b[A\n",
            "Files in jazz:  33%|███▎      | 33/100 [00:04<00:05, 12.24it/s]\u001b[A/tmp/ipython-input-2-1745141336.py:93: UserWarning: PySoundFile failed. Trying audioread instead.\n",
            "  signal, sr = librosa.load(file_path, sr=sample_rate)\n",
            "/usr/local/lib/python3.11/dist-packages/librosa/core/audio.py:184: FutureWarning: librosa.core.audio.__audioread_load\n",
            "\tDeprecated as of librosa version 0.10.0.\n",
            "\tIt will be removed in librosa version 1.0.\n",
            "  y, sr_native = __audioread_load(path, offset, duration, dtype)\n",
            "\n",
            "Files in jazz:  35%|███▌      | 35/100 [00:04<00:06,  9.42it/s]\u001b[A\n",
            "Files in jazz:  37%|███▋      | 37/100 [00:04<00:06, 10.29it/s]\u001b[A"
          ]
        },
        {
          "output_type": "stream",
          "name": "stdout",
          "text": [
            "Error processing /root/.cache/kagglehub/datasets/andradaolteanu/gtzan-dataset-music-genre-classification/versions/1/Data/genres_original/jazz/jazz.00054.wav: \n"
          ]
        },
        {
          "output_type": "stream",
          "name": "stderr",
          "text": [
            "\n",
            "Files in jazz:  39%|███▉      | 39/100 [00:04<00:05, 10.87it/s]\u001b[A\n",
            "Files in jazz:  41%|████      | 41/100 [00:05<00:05, 11.10it/s]\u001b[A\n",
            "Files in jazz:  43%|████▎     | 43/100 [00:05<00:04, 11.53it/s]\u001b[A\n",
            "Files in jazz:  45%|████▌     | 45/100 [00:05<00:04, 11.95it/s]\u001b[A\n",
            "Files in jazz:  47%|████▋     | 47/100 [00:05<00:04, 12.37it/s]\u001b[A\n",
            "Files in jazz:  49%|████▉     | 49/100 [00:05<00:04, 12.74it/s]\u001b[A\n",
            "Files in jazz:  51%|█████     | 51/100 [00:05<00:03, 12.94it/s]\u001b[A\n",
            "Files in jazz:  53%|█████▎    | 53/100 [00:06<00:06,  7.66it/s]\u001b[A\n",
            "Files in jazz:  55%|█████▌    | 55/100 [00:06<00:05,  8.80it/s]\u001b[A\n",
            "Files in jazz:  57%|█████▋    | 57/100 [00:06<00:04,  9.68it/s]\u001b[A\n",
            "Files in jazz:  59%|█████▉    | 59/100 [00:06<00:03, 10.50it/s]\u001b[A\n",
            "Files in jazz:  61%|██████    | 61/100 [00:07<00:03, 11.15it/s]\u001b[A\n",
            "Files in jazz:  63%|██████▎   | 63/100 [00:07<00:03, 11.77it/s]\u001b[A\n",
            "Files in jazz:  65%|██████▌   | 65/100 [00:07<00:02, 11.75it/s]\u001b[A\n",
            "Files in jazz:  67%|██████▋   | 67/100 [00:07<00:02, 12.26it/s]\u001b[A\n",
            "Files in jazz:  69%|██████▉   | 69/100 [00:07<00:02, 12.44it/s]\u001b[A\n",
            "Files in jazz:  71%|███████   | 71/100 [00:07<00:02, 12.61it/s]\u001b[A\n",
            "Files in jazz:  73%|███████▎  | 73/100 [00:07<00:02, 12.64it/s]\u001b[A\n",
            "Files in jazz:  75%|███████▌  | 75/100 [00:08<00:01, 12.90it/s]\u001b[A\n",
            "Files in jazz:  77%|███████▋  | 77/100 [00:08<00:01, 12.93it/s]\u001b[A\n",
            "Files in jazz:  79%|███████▉  | 79/100 [00:08<00:01, 12.50it/s]\u001b[A\n",
            "Files in jazz:  81%|████████  | 81/100 [00:08<00:01, 12.61it/s]\u001b[A\n",
            "Files in jazz:  83%|████████▎ | 83/100 [00:08<00:01, 12.74it/s]\u001b[A\n",
            "Files in jazz:  85%|████████▌ | 85/100 [00:08<00:01, 12.87it/s]\u001b[A\n",
            "Files in jazz:  87%|████████▋ | 87/100 [00:09<00:00, 13.03it/s]\u001b[A\n",
            "Files in jazz:  89%|████████▉ | 89/100 [00:09<00:00, 13.05it/s]\u001b[A\n",
            "Files in jazz:  91%|█████████ | 91/100 [00:09<00:00, 12.05it/s]\u001b[A\n",
            "Files in jazz:  93%|█████████▎| 93/100 [00:09<00:00, 12.15it/s]\u001b[A\n",
            "Files in jazz:  95%|█████████▌| 95/100 [00:09<00:00, 12.40it/s]\u001b[A\n",
            "Files in jazz:  97%|█████████▋| 97/100 [00:09<00:00, 12.47it/s]\u001b[A\n",
            "Files in jazz:  99%|█████████▉| 99/100 [00:09<00:00, 12.73it/s]\u001b[A\n",
            "Processing Genres: 3it [00:31, 10.58s/it]"
          ]
        },
        {
          "output_type": "stream",
          "name": "stdout",
          "text": [
            "\n",
            "Genre 3: hiphop\n"
          ]
        },
        {
          "output_type": "stream",
          "name": "stderr",
          "text": [
            "\n",
            "Files in hiphop:   0%|          | 0/100 [00:00<?, ?it/s]\u001b[A\n",
            "Files in hiphop:   2%|▏         | 2/100 [00:00<00:07, 13.25it/s]\u001b[A\n",
            "Files in hiphop:   4%|▍         | 4/100 [00:00<00:07, 12.18it/s]\u001b[A\n",
            "Files in hiphop:   6%|▌         | 6/100 [00:00<00:07, 12.36it/s]\u001b[A\n",
            "Files in hiphop:   8%|▊         | 8/100 [00:00<00:07, 12.58it/s]\u001b[A\n",
            "Files in hiphop:  11%|█         | 11/100 [00:00<00:05, 14.90it/s]\u001b[A\n",
            "Files in hiphop:  13%|█▎        | 13/100 [00:00<00:06, 14.17it/s]\u001b[A\n",
            "Files in hiphop:  15%|█▌        | 15/100 [00:01<00:06, 13.85it/s]\u001b[A\n",
            "Files in hiphop:  17%|█▋        | 17/100 [00:01<00:06, 13.50it/s]\u001b[A\n",
            "Files in hiphop:  19%|█▉        | 19/100 [00:01<00:06, 12.53it/s]\u001b[A\n",
            "Files in hiphop:  21%|██        | 21/100 [00:01<00:06, 12.64it/s]\u001b[A\n",
            "Files in hiphop:  23%|██▎       | 23/100 [00:01<00:06, 12.71it/s]\u001b[A\n",
            "Files in hiphop:  25%|██▌       | 25/100 [00:01<00:05, 12.90it/s]\u001b[A\n",
            "Files in hiphop:  28%|██▊       | 28/100 [00:02<00:04, 14.91it/s]\u001b[A\n",
            "Files in hiphop:  30%|███       | 30/100 [00:02<00:04, 14.40it/s]\u001b[A\n",
            "Files in hiphop:  32%|███▏      | 32/100 [00:02<00:04, 14.11it/s]\u001b[A\n",
            "Files in hiphop:  34%|███▍      | 34/100 [00:02<00:04, 13.52it/s]\u001b[A\n",
            "Files in hiphop:  36%|███▌      | 36/100 [00:02<00:04, 13.36it/s]\u001b[A\n",
            "Files in hiphop:  38%|███▊      | 38/100 [00:02<00:05, 10.50it/s]\u001b[A\n",
            "Files in hiphop:  40%|████      | 40/100 [00:03<00:08,  6.88it/s]\u001b[A\n",
            "Files in hiphop:  41%|████      | 41/100 [00:03<00:11,  5.03it/s]\u001b[A\n",
            "Files in hiphop:  42%|████▏     | 42/100 [00:04<00:14,  3.94it/s]\u001b[A\n",
            "Files in hiphop:  43%|████▎     | 43/100 [00:04<00:13,  4.12it/s]\u001b[A\n",
            "Files in hiphop:  44%|████▍     | 44/100 [00:04<00:12,  4.59it/s]\u001b[A\n",
            "Files in hiphop:  45%|████▌     | 45/100 [00:04<00:11,  4.84it/s]\u001b[A\n",
            "Files in hiphop:  46%|████▌     | 46/100 [00:05<00:10,  5.32it/s]\u001b[A\n",
            "Files in hiphop:  47%|████▋     | 47/100 [00:05<00:12,  4.37it/s]\u001b[A\n",
            "Files in hiphop:  48%|████▊     | 48/100 [00:05<00:10,  5.08it/s]\u001b[A\n",
            "Files in hiphop:  50%|█████     | 50/100 [00:05<00:07,  6.76it/s]\u001b[A\n",
            "Files in hiphop:  52%|█████▏    | 52/100 [00:05<00:05,  8.36it/s]\u001b[A\n",
            "Files in hiphop:  54%|█████▍    | 54/100 [00:06<00:04,  9.75it/s]\u001b[A\n",
            "Files in hiphop:  56%|█████▌    | 56/100 [00:06<00:04, 10.53it/s]\u001b[A\n",
            "Files in hiphop:  58%|█████▊    | 58/100 [00:06<00:03, 10.67it/s]\u001b[A\n",
            "Files in hiphop:  60%|██████    | 60/100 [00:06<00:03, 10.89it/s]\u001b[A\n",
            "Files in hiphop:  62%|██████▏   | 62/100 [00:06<00:03, 11.40it/s]\u001b[A\n",
            "Files in hiphop:  64%|██████▍   | 64/100 [00:06<00:03, 11.25it/s]\u001b[A\n",
            "Files in hiphop:  66%|██████▌   | 66/100 [00:07<00:02, 11.82it/s]\u001b[A\n",
            "Files in hiphop:  68%|██████▊   | 68/100 [00:07<00:02, 11.97it/s]\u001b[A\n",
            "Files in hiphop:  70%|███████   | 70/100 [00:07<00:02, 12.30it/s]\u001b[A\n",
            "Files in hiphop:  72%|███████▏  | 72/100 [00:07<00:02, 12.36it/s]\u001b[A\n",
            "Files in hiphop:  74%|███████▍  | 74/100 [00:07<00:02, 12.41it/s]\u001b[A\n",
            "Files in hiphop:  76%|███████▌  | 76/100 [00:07<00:01, 12.03it/s]\u001b[A\n",
            "Files in hiphop:  78%|███████▊  | 78/100 [00:07<00:01, 12.34it/s]\u001b[A\n",
            "Files in hiphop:  80%|████████  | 80/100 [00:08<00:01, 12.57it/s]\u001b[A\n",
            "Files in hiphop:  82%|████████▏ | 82/100 [00:08<00:01, 12.68it/s]\u001b[A\n",
            "Files in hiphop:  84%|████████▍ | 84/100 [00:08<00:01, 12.40it/s]\u001b[A\n",
            "Files in hiphop:  86%|████████▌ | 86/100 [00:08<00:01, 12.36it/s]\u001b[A\n",
            "Files in hiphop:  88%|████████▊ | 88/100 [00:08<00:00, 12.28it/s]\u001b[A\n",
            "Files in hiphop:  90%|█████████ | 90/100 [00:08<00:00, 11.66it/s]\u001b[A\n",
            "Files in hiphop:  92%|█████████▏| 92/100 [00:09<00:00, 11.98it/s]\u001b[A\n",
            "Files in hiphop:  94%|█████████▍| 94/100 [00:09<00:00, 12.12it/s]\u001b[A\n",
            "Files in hiphop:  96%|█████████▌| 96/100 [00:09<00:00, 12.27it/s]\u001b[A\n",
            "Files in hiphop:  98%|█████████▊| 98/100 [00:09<00:00, 12.34it/s]\u001b[A\n",
            "Files in hiphop: 100%|██████████| 100/100 [00:09<00:00, 12.51it/s]\u001b[A\n",
            "Processing Genres: 4it [00:41, 10.28s/it]"
          ]
        },
        {
          "output_type": "stream",
          "name": "stdout",
          "text": [
            "\n",
            "Genre 4: blues\n"
          ]
        },
        {
          "output_type": "stream",
          "name": "stderr",
          "text": [
            "\n",
            "Files in blues:   0%|          | 0/100 [00:00<?, ?it/s]\u001b[A\n",
            "Files in blues:   2%|▏         | 2/100 [00:00<00:08, 10.97it/s]\u001b[A\n",
            "Files in blues:   4%|▍         | 4/100 [00:00<00:07, 12.10it/s]\u001b[A\n",
            "Files in blues:   6%|▌         | 6/100 [00:00<00:07, 12.46it/s]\u001b[A\n",
            "Files in blues:   8%|▊         | 8/100 [00:00<00:07, 12.58it/s]\u001b[A\n",
            "Files in blues:  10%|█         | 10/100 [00:00<00:07, 12.70it/s]\u001b[A\n",
            "Files in blues:  12%|█▏        | 12/100 [00:00<00:06, 12.78it/s]\u001b[A\n",
            "Files in blues:  14%|█▍        | 14/100 [00:01<00:11,  7.19it/s]\u001b[A\n",
            "Files in blues:  16%|█▌        | 16/100 [00:01<00:09,  8.42it/s]\u001b[A\n",
            "Files in blues:  18%|█▊        | 18/100 [00:01<00:08,  9.47it/s]\u001b[A\n",
            "Files in blues:  20%|██        | 20/100 [00:01<00:07, 10.31it/s]\u001b[A\n",
            "Files in blues:  22%|██▏       | 22/100 [00:02<00:07, 11.06it/s]\u001b[A\n",
            "Files in blues:  24%|██▍       | 24/100 [00:02<00:06, 10.96it/s]\u001b[A\n",
            "Files in blues:  26%|██▌       | 26/100 [00:02<00:06, 11.32it/s]\u001b[A\n",
            "Files in blues:  28%|██▊       | 28/100 [00:02<00:06, 11.62it/s]\u001b[A\n",
            "Files in blues:  30%|███       | 30/100 [00:02<00:05, 11.72it/s]\u001b[A\n",
            "Files in blues:  32%|███▏      | 32/100 [00:02<00:05, 12.02it/s]\u001b[A\n",
            "Files in blues:  34%|███▍      | 34/100 [00:03<00:05, 12.24it/s]\u001b[A\n",
            "Files in blues:  36%|███▌      | 36/100 [00:03<00:05, 11.63it/s]\u001b[A\n",
            "Files in blues:  38%|███▊      | 38/100 [00:03<00:05, 11.85it/s]\u001b[A\n",
            "Files in blues:  40%|████      | 40/100 [00:03<00:04, 12.18it/s]\u001b[A\n",
            "Files in blues:  42%|████▏     | 42/100 [00:03<00:04, 12.40it/s]\u001b[A\n",
            "Files in blues:  44%|████▍     | 44/100 [00:03<00:04, 12.58it/s]\u001b[A\n",
            "Files in blues:  46%|████▌     | 46/100 [00:04<00:04, 12.79it/s]\u001b[A\n",
            "Files in blues:  48%|████▊     | 48/100 [00:04<00:04, 12.98it/s]\u001b[A\n",
            "Files in blues:  50%|█████     | 50/100 [00:04<00:04, 12.31it/s]\u001b[A\n",
            "Files in blues:  52%|█████▏    | 52/100 [00:04<00:03, 12.56it/s]\u001b[A\n",
            "Files in blues:  54%|█████▍    | 54/100 [00:04<00:03, 12.74it/s]\u001b[A\n",
            "Files in blues:  56%|█████▌    | 56/100 [00:04<00:03, 12.75it/s]\u001b[A\n",
            "Files in blues:  58%|█████▊    | 58/100 [00:04<00:03, 12.88it/s]\u001b[A\n",
            "Files in blues:  60%|██████    | 60/100 [00:05<00:03, 13.01it/s]\u001b[A\n",
            "Files in blues:  62%|██████▏   | 62/100 [00:05<00:02, 12.88it/s]\u001b[A\n",
            "Files in blues:  64%|██████▍   | 64/100 [00:05<00:03, 11.93it/s]\u001b[A\n",
            "Files in blues:  66%|██████▌   | 66/100 [00:05<00:02, 12.25it/s]\u001b[A\n",
            "Files in blues:  68%|██████▊   | 68/100 [00:05<00:02, 11.18it/s]\u001b[A\n",
            "Files in blues:  70%|███████   | 70/100 [00:06<00:03,  9.12it/s]\u001b[A\n",
            "Files in blues:  71%|███████   | 71/100 [00:06<00:03,  8.54it/s]\u001b[A\n",
            "Files in blues:  72%|███████▏  | 72/100 [00:06<00:04,  6.19it/s]\u001b[A\n",
            "Files in blues:  73%|███████▎  | 73/100 [00:06<00:04,  6.45it/s]\u001b[A\n",
            "Files in blues:  74%|███████▍  | 74/100 [00:07<00:04,  5.20it/s]\u001b[A\n",
            "Files in blues:  75%|███████▌  | 75/100 [00:07<00:06,  3.63it/s]\u001b[A\n",
            "Files in blues:  76%|███████▌  | 76/100 [00:07<00:05,  4.02it/s]\u001b[A\n",
            "Files in blues:  77%|███████▋  | 77/100 [00:07<00:05,  4.50it/s]\u001b[A\n",
            "Files in blues:  78%|███████▊  | 78/100 [00:08<00:04,  4.52it/s]\u001b[A\n",
            "Files in blues:  79%|███████▉  | 79/100 [00:08<00:04,  4.96it/s]\u001b[A\n",
            "Files in blues:  80%|████████  | 80/100 [00:08<00:03,  5.41it/s]\u001b[A\n",
            "Files in blues:  81%|████████  | 81/100 [00:08<00:03,  5.40it/s]\u001b[A\n",
            "Files in blues:  82%|████████▏ | 82/100 [00:08<00:03,  5.51it/s]\u001b[A\n",
            "Files in blues:  84%|████████▍ | 84/100 [00:08<00:02,  7.44it/s]\u001b[A\n",
            "Files in blues:  86%|████████▌ | 86/100 [00:09<00:01,  8.82it/s]\u001b[A\n",
            "Files in blues:  88%|████████▊ | 88/100 [00:09<00:01, 10.00it/s]\u001b[A\n",
            "Files in blues:  90%|█████████ | 90/100 [00:09<00:00, 10.92it/s]\u001b[A\n",
            "Files in blues:  92%|█████████▏| 92/100 [00:09<00:00, 11.47it/s]\u001b[A\n",
            "Files in blues:  94%|█████████▍| 94/100 [00:09<00:00, 11.34it/s]\u001b[A\n",
            "Files in blues:  96%|█████████▌| 96/100 [00:09<00:00, 11.70it/s]\u001b[A\n",
            "Files in blues:  98%|█████████▊| 98/100 [00:10<00:00, 12.12it/s]\u001b[A\n",
            "Files in blues: 100%|██████████| 100/100 [00:10<00:00, 12.38it/s]\u001b[A\n",
            "Processing Genres: 5it [00:52, 10.28s/it]"
          ]
        },
        {
          "output_type": "stream",
          "name": "stdout",
          "text": [
            "\n",
            "Genre 5: rock\n"
          ]
        },
        {
          "output_type": "stream",
          "name": "stderr",
          "text": [
            "\n",
            "Files in rock:   0%|          | 0/100 [00:00<?, ?it/s]\u001b[A\n",
            "Files in rock:   2%|▏         | 2/100 [00:00<00:07, 13.32it/s]\u001b[A\n",
            "Files in rock:   4%|▍         | 4/100 [00:00<00:07, 13.10it/s]\u001b[A\n",
            "Files in rock:   6%|▌         | 6/100 [00:00<00:07, 12.73it/s]\u001b[A\n",
            "Files in rock:   8%|▊         | 8/100 [00:00<00:07, 12.50it/s]\u001b[A\n",
            "Files in rock:  10%|█         | 10/100 [00:00<00:07, 12.61it/s]\u001b[A\n",
            "Files in rock:  12%|█▏        | 12/100 [00:00<00:07, 12.55it/s]\u001b[A\n",
            "Files in rock:  14%|█▍        | 14/100 [00:01<00:06, 12.65it/s]\u001b[A\n",
            "Files in rock:  16%|█▌        | 16/100 [00:01<00:06, 12.80it/s]\u001b[A\n",
            "Files in rock:  18%|█▊        | 18/100 [00:01<00:06, 12.80it/s]\u001b[A\n",
            "Files in rock:  20%|██        | 20/100 [00:01<00:06, 12.38it/s]\u001b[A\n",
            "Files in rock:  22%|██▏       | 22/100 [00:01<00:06, 12.69it/s]\u001b[A\n",
            "Files in rock:  24%|██▍       | 24/100 [00:01<00:05, 12.87it/s]\u001b[A\n",
            "Files in rock:  26%|██▌       | 26/100 [00:02<00:05, 12.97it/s]\u001b[A\n",
            "Files in rock:  28%|██▊       | 28/100 [00:02<00:05, 13.00it/s]\u001b[A\n",
            "Files in rock:  30%|███       | 30/100 [00:02<00:05, 12.69it/s]\u001b[A\n",
            "Files in rock:  32%|███▏      | 32/100 [00:02<00:05, 12.47it/s]\u001b[A\n",
            "Files in rock:  34%|███▍      | 34/100 [00:02<00:05, 11.91it/s]\u001b[A\n",
            "Files in rock:  36%|███▌      | 36/100 [00:02<00:05, 12.05it/s]\u001b[A\n",
            "Files in rock:  38%|███▊      | 38/100 [00:03<00:05, 12.19it/s]\u001b[A\n",
            "Files in rock:  40%|████      | 40/100 [00:03<00:04, 12.30it/s]\u001b[A\n",
            "Files in rock:  42%|████▏     | 42/100 [00:03<00:04, 12.47it/s]\u001b[A\n",
            "Files in rock:  44%|████▍     | 44/100 [00:03<00:04, 12.36it/s]\u001b[A\n",
            "Files in rock:  46%|████▌     | 46/100 [00:03<00:04, 11.77it/s]\u001b[A\n",
            "Files in rock:  48%|████▊     | 48/100 [00:03<00:04, 11.95it/s]\u001b[A\n",
            "Files in rock:  50%|█████     | 50/100 [00:04<00:04, 11.96it/s]\u001b[A\n",
            "Files in rock:  52%|█████▏    | 52/100 [00:04<00:03, 12.12it/s]\u001b[A\n",
            "Files in rock:  54%|█████▍    | 54/100 [00:04<00:03, 12.26it/s]\u001b[A\n",
            "Files in rock:  56%|█████▌    | 56/100 [00:04<00:03, 12.28it/s]\u001b[A\n",
            "Files in rock:  58%|█████▊    | 58/100 [00:04<00:03, 12.32it/s]\u001b[A\n",
            "Files in rock:  60%|██████    | 60/100 [00:04<00:03, 11.98it/s]\u001b[A\n",
            "Files in rock:  62%|██████▏   | 62/100 [00:05<00:03, 12.11it/s]\u001b[A\n",
            "Files in rock:  64%|██████▍   | 64/100 [00:05<00:02, 12.30it/s]\u001b[A\n",
            "Files in rock:  66%|██████▌   | 66/100 [00:05<00:02, 12.24it/s]\u001b[A\n",
            "Files in rock:  68%|██████▊   | 68/100 [00:05<00:02, 12.39it/s]\u001b[A\n",
            "Files in rock:  70%|███████   | 70/100 [00:05<00:02, 12.40it/s]\u001b[A\n",
            "Files in rock:  72%|███████▏  | 72/100 [00:05<00:02, 11.76it/s]\u001b[A\n",
            "Files in rock:  74%|███████▍  | 74/100 [00:06<00:02, 11.93it/s]\u001b[A\n",
            "Files in rock:  76%|███████▌  | 76/100 [00:06<00:01, 12.14it/s]\u001b[A\n",
            "Files in rock:  79%|███████▉  | 79/100 [00:06<00:01, 13.99it/s]\u001b[A\n",
            "Files in rock:  81%|████████  | 81/100 [00:06<00:01, 13.47it/s]\u001b[A\n",
            "Files in rock:  83%|████████▎ | 83/100 [00:06<00:01, 12.82it/s]\u001b[A\n",
            "Files in rock:  85%|████████▌ | 85/100 [00:06<00:01, 12.02it/s]\u001b[A\n",
            "Files in rock:  87%|████████▋ | 87/100 [00:07<00:01, 12.35it/s]\u001b[A\n",
            "Files in rock:  89%|████████▉ | 89/100 [00:07<00:00, 12.64it/s]\u001b[A\n",
            "Files in rock:  91%|█████████ | 91/100 [00:07<00:00, 12.63it/s]\u001b[A\n",
            "Files in rock:  93%|█████████▎| 93/100 [00:07<00:00, 12.61it/s]\u001b[A\n",
            "Files in rock:  95%|█████████▌| 95/100 [00:07<00:00, 12.82it/s]\u001b[A\n",
            "Files in rock:  97%|█████████▋| 97/100 [00:07<00:00, 12.85it/s]\u001b[A\n",
            "Files in rock:  99%|█████████▉| 99/100 [00:07<00:00, 12.14it/s]\u001b[A\n",
            "Processing Genres: 6it [01:00,  9.54s/it]"
          ]
        },
        {
          "output_type": "stream",
          "name": "stdout",
          "text": [
            "\n",
            "Genre 6: classical\n"
          ]
        },
        {
          "output_type": "stream",
          "name": "stderr",
          "text": [
            "\n",
            "Files in classical:   0%|          | 0/100 [00:00<?, ?it/s]\u001b[A\n",
            "Files in classical:   2%|▏         | 2/100 [00:00<00:07, 13.85it/s]\u001b[A\n",
            "Files in classical:   4%|▍         | 4/100 [00:00<00:07, 13.16it/s]\u001b[A\n",
            "Files in classical:   6%|▌         | 6/100 [00:00<00:07, 12.69it/s]\u001b[A\n",
            "Files in classical:   8%|▊         | 8/100 [00:00<00:08, 10.62it/s]\u001b[A\n",
            "Files in classical:  10%|█         | 10/100 [00:01<00:12,  7.16it/s]\u001b[A\n",
            "Files in classical:  11%|█         | 11/100 [00:02<00:30,  2.95it/s]\u001b[A\n",
            "Files in classical:  12%|█▏        | 12/100 [00:02<00:28,  3.04it/s]\u001b[A\n",
            "Files in classical:  13%|█▎        | 13/100 [00:02<00:25,  3.47it/s]\u001b[A\n",
            "Files in classical:  14%|█▍        | 14/100 [00:02<00:21,  4.01it/s]\u001b[A\n",
            "Files in classical:  15%|█▌        | 15/100 [00:03<00:21,  3.91it/s]\u001b[A\n",
            "Files in classical:  17%|█▋        | 17/100 [00:03<00:14,  5.61it/s]\u001b[A\n",
            "Files in classical:  19%|█▉        | 19/100 [00:03<00:11,  7.00it/s]\u001b[A\n",
            "Files in classical:  21%|██        | 21/100 [00:03<00:09,  8.08it/s]\u001b[A\n",
            "Files in classical:  23%|██▎       | 23/100 [00:03<00:08,  9.22it/s]\u001b[A\n",
            "Files in classical:  25%|██▌       | 25/100 [00:03<00:07, 10.21it/s]\u001b[A\n",
            "Files in classical:  27%|██▋       | 27/100 [00:04<00:06, 10.75it/s]\u001b[A\n",
            "Files in classical:  29%|██▉       | 29/100 [00:04<00:06, 10.94it/s]\u001b[A\n",
            "Files in classical:  31%|███       | 31/100 [00:04<00:06, 10.93it/s]\u001b[A\n",
            "Files in classical:  33%|███▎      | 33/100 [00:04<00:06, 11.02it/s]\u001b[A\n",
            "Files in classical:  35%|███▌      | 35/100 [00:04<00:05, 11.39it/s]\u001b[A\n",
            "Files in classical:  37%|███▋      | 37/100 [00:04<00:05, 11.73it/s]\u001b[A\n",
            "Files in classical:  39%|███▉      | 39/100 [00:05<00:05, 12.04it/s]\u001b[A\n",
            "Files in classical:  41%|████      | 41/100 [00:05<00:05, 11.77it/s]\u001b[A\n",
            "Files in classical:  43%|████▎     | 43/100 [00:05<00:04, 12.08it/s]\u001b[A\n",
            "Files in classical:  46%|████▌     | 46/100 [00:05<00:03, 14.05it/s]\u001b[A\n",
            "Files in classical:  48%|████▊     | 48/100 [00:05<00:03, 13.73it/s]\u001b[A\n",
            "Files in classical:  50%|█████     | 50/100 [00:05<00:03, 13.50it/s]\u001b[A\n",
            "Files in classical:  52%|█████▏    | 52/100 [00:06<00:03, 13.30it/s]\u001b[A\n",
            "Files in classical:  54%|█████▍    | 54/100 [00:06<00:03, 12.58it/s]\u001b[A\n",
            "Files in classical:  57%|█████▋    | 57/100 [00:06<00:03, 14.12it/s]\u001b[A\n",
            "Files in classical:  59%|█████▉    | 59/100 [00:06<00:02, 13.89it/s]\u001b[A\n",
            "Files in classical:  61%|██████    | 61/100 [00:06<00:02, 13.68it/s]\u001b[A\n",
            "Files in classical:  63%|██████▎   | 63/100 [00:06<00:02, 13.50it/s]\u001b[A\n",
            "Files in classical:  65%|██████▌   | 65/100 [00:07<00:02, 13.44it/s]\u001b[A\n",
            "Files in classical:  67%|██████▋   | 67/100 [00:07<00:02, 13.35it/s]\u001b[A\n",
            "Files in classical:  69%|██████▉   | 69/100 [00:07<00:02, 12.56it/s]\u001b[A\n",
            "Files in classical:  71%|███████   | 71/100 [00:07<00:02, 12.64it/s]\u001b[A\n",
            "Files in classical:  73%|███████▎  | 73/100 [00:07<00:02, 12.80it/s]\u001b[A\n",
            "Files in classical:  75%|███████▌  | 75/100 [00:07<00:01, 12.74it/s]\u001b[A\n",
            "Files in classical:  77%|███████▋  | 77/100 [00:07<00:01, 12.81it/s]\u001b[A\n",
            "Files in classical:  79%|███████▉  | 79/100 [00:08<00:01, 12.97it/s]\u001b[A\n",
            "Files in classical:  81%|████████  | 81/100 [00:08<00:01, 12.70it/s]\u001b[A\n",
            "Files in classical:  83%|████████▎ | 83/100 [00:08<00:01, 11.92it/s]\u001b[A\n",
            "Files in classical:  85%|████████▌ | 85/100 [00:08<00:01, 12.20it/s]\u001b[A\n",
            "Files in classical:  87%|████████▋ | 87/100 [00:08<00:01, 11.80it/s]\u001b[A\n",
            "Files in classical:  89%|████████▉ | 89/100 [00:08<00:00, 12.18it/s]\u001b[A\n",
            "Files in classical:  91%|█████████ | 91/100 [00:09<00:00, 12.43it/s]\u001b[A\n",
            "Files in classical:  93%|█████████▎| 93/100 [00:09<00:00, 12.45it/s]\u001b[A\n",
            "Files in classical:  95%|█████████▌| 95/100 [00:09<00:00, 12.01it/s]\u001b[A\n",
            "Files in classical:  97%|█████████▋| 97/100 [00:09<00:00, 12.18it/s]\u001b[A\n",
            "Files in classical:  99%|█████████▉| 99/100 [00:09<00:00, 12.20it/s]\u001b[A\n",
            "Processing Genres: 7it [01:09,  9.65s/it]"
          ]
        },
        {
          "output_type": "stream",
          "name": "stdout",
          "text": [
            "\n",
            "Genre 7: metal\n"
          ]
        },
        {
          "output_type": "stream",
          "name": "stderr",
          "text": [
            "\n",
            "Files in metal:   0%|          | 0/100 [00:00<?, ?it/s]\u001b[A\n",
            "Files in metal:   2%|▏         | 2/100 [00:00<00:07, 12.87it/s]\u001b[A\n",
            "Files in metal:   4%|▍         | 4/100 [00:00<00:07, 12.92it/s]\u001b[A\n",
            "Files in metal:   6%|▌         | 6/100 [00:00<00:07, 12.37it/s]\u001b[A\n",
            "Files in metal:   8%|▊         | 8/100 [00:00<00:07, 11.73it/s]\u001b[A\n",
            "Files in metal:  10%|█         | 10/100 [00:00<00:07, 12.08it/s]\u001b[A\n",
            "Files in metal:  12%|█▏        | 12/100 [00:00<00:07, 12.39it/s]\u001b[A\n",
            "Files in metal:  14%|█▍        | 14/100 [00:01<00:06, 12.53it/s]\u001b[A\n",
            "Files in metal:  16%|█▌        | 16/100 [00:01<00:06, 12.78it/s]\u001b[A\n",
            "Files in metal:  18%|█▊        | 18/100 [00:01<00:06, 12.78it/s]\u001b[A\n",
            "Files in metal:  20%|██        | 20/100 [00:01<00:06, 12.74it/s]\u001b[A\n",
            "Files in metal:  22%|██▏       | 22/100 [00:01<00:06, 12.38it/s]\u001b[A\n",
            "Files in metal:  24%|██▍       | 24/100 [00:01<00:06, 12.60it/s]\u001b[A\n",
            "Files in metal:  26%|██▌       | 26/100 [00:02<00:05, 12.74it/s]\u001b[A\n",
            "Files in metal:  28%|██▊       | 28/100 [00:02<00:05, 12.76it/s]\u001b[A\n",
            "Files in metal:  30%|███       | 30/100 [00:02<00:05, 12.67it/s]\u001b[A\n",
            "Files in metal:  32%|███▏      | 32/100 [00:02<00:05, 12.76it/s]\u001b[A\n",
            "Files in metal:  34%|███▍      | 34/100 [00:02<00:05, 12.70it/s]\u001b[A\n",
            "Files in metal:  36%|███▌      | 36/100 [00:02<00:05, 12.31it/s]\u001b[A\n",
            "Files in metal:  38%|███▊      | 38/100 [00:03<00:05, 12.13it/s]\u001b[A\n",
            "Files in metal:  40%|████      | 40/100 [00:03<00:05, 11.94it/s]\u001b[A\n",
            "Files in metal:  42%|████▏     | 42/100 [00:03<00:05, 10.47it/s]\u001b[A\n",
            "Files in metal:  44%|████▍     | 44/100 [00:03<00:06,  9.08it/s]\u001b[A\n",
            "Files in metal:  45%|████▌     | 45/100 [00:03<00:06,  8.66it/s]\u001b[A\n",
            "Files in metal:  46%|████▌     | 46/100 [00:04<00:09,  5.55it/s]\u001b[A\n",
            "Files in metal:  47%|████▋     | 47/100 [00:04<00:12,  4.35it/s]\u001b[A\n",
            "Files in metal:  48%|████▊     | 48/100 [00:05<00:14,  3.61it/s]\u001b[A\n",
            "Files in metal:  49%|████▉     | 49/100 [00:05<00:12,  4.13it/s]\u001b[A\n",
            "Files in metal:  50%|█████     | 50/100 [00:05<00:10,  4.80it/s]\u001b[A\n",
            "Files in metal:  51%|█████     | 51/100 [00:05<00:09,  5.39it/s]\u001b[A\n",
            "Files in metal:  52%|█████▏    | 52/100 [00:05<00:08,  5.82it/s]\u001b[A\n",
            "Files in metal:  53%|█████▎    | 53/100 [00:05<00:08,  5.80it/s]\u001b[A\n",
            "Files in metal:  54%|█████▍    | 54/100 [00:05<00:07,  6.27it/s]\u001b[A\n",
            "Files in metal:  55%|█████▌    | 55/100 [00:06<00:06,  6.71it/s]\u001b[A\n",
            "Files in metal:  56%|█████▌    | 56/100 [00:06<00:06,  6.66it/s]\u001b[A\n",
            "Files in metal:  57%|█████▋    | 57/100 [00:06<00:05,  7.37it/s]\u001b[A\n",
            "Files in metal:  59%|█████▉    | 59/100 [00:06<00:04,  9.06it/s]\u001b[A\n",
            "Files in metal:  61%|██████    | 61/100 [00:06<00:03, 10.31it/s]\u001b[A\n",
            "Files in metal:  63%|██████▎   | 63/100 [00:06<00:03, 11.19it/s]\u001b[A\n",
            "Files in metal:  65%|██████▌   | 65/100 [00:06<00:02, 11.75it/s]\u001b[A\n",
            "Files in metal:  67%|██████▋   | 67/100 [00:07<00:02, 11.66it/s]\u001b[A\n",
            "Files in metal:  69%|██████▉   | 69/100 [00:07<00:02, 12.22it/s]\u001b[A\n",
            "Files in metal:  71%|███████   | 71/100 [00:07<00:02, 12.50it/s]\u001b[A\n",
            "Files in metal:  73%|███████▎  | 73/100 [00:07<00:02, 12.72it/s]\u001b[A\n",
            "Files in metal:  75%|███████▌  | 75/100 [00:07<00:01, 12.72it/s]\u001b[A\n",
            "Files in metal:  77%|███████▋  | 77/100 [00:07<00:01, 12.78it/s]\u001b[A\n",
            "Files in metal:  79%|███████▉  | 79/100 [00:08<00:01, 12.78it/s]\u001b[A\n",
            "Files in metal:  81%|████████  | 81/100 [00:08<00:01, 12.12it/s]\u001b[A\n",
            "Files in metal:  83%|████████▎ | 83/100 [00:08<00:01, 12.43it/s]\u001b[A\n",
            "Files in metal:  85%|████████▌ | 85/100 [00:08<00:01, 12.46it/s]\u001b[A\n",
            "Files in metal:  87%|████████▋ | 87/100 [00:08<00:01, 12.55it/s]\u001b[A\n",
            "Files in metal:  89%|████████▉ | 89/100 [00:08<00:00, 12.48it/s]\u001b[A\n",
            "Files in metal:  91%|█████████ | 91/100 [00:09<00:00, 12.66it/s]\u001b[A\n",
            "Files in metal:  93%|█████████▎| 93/100 [00:09<00:00, 11.73it/s]\u001b[A\n",
            "Files in metal:  95%|█████████▌| 95/100 [00:09<00:00, 12.09it/s]\u001b[A\n",
            "Files in metal:  97%|█████████▋| 97/100 [00:09<00:00, 12.26it/s]\u001b[A\n",
            "Files in metal:  99%|█████████▉| 99/100 [00:09<00:00, 12.36it/s]\u001b[A\n",
            "Processing Genres: 8it [01:19,  9.70s/it]"
          ]
        },
        {
          "output_type": "stream",
          "name": "stdout",
          "text": [
            "\n",
            "Genre 8: disco\n"
          ]
        },
        {
          "output_type": "stream",
          "name": "stderr",
          "text": [
            "\n",
            "Files in disco:   0%|          | 0/100 [00:00<?, ?it/s]\u001b[A\n",
            "Files in disco:   1%|          | 1/100 [00:00<00:11,  8.46it/s]\u001b[A\n",
            "Files in disco:   3%|▎         | 3/100 [00:00<00:08, 11.06it/s]\u001b[A\n",
            "Files in disco:   5%|▌         | 5/100 [00:00<00:08, 10.72it/s]\u001b[A\n",
            "Files in disco:   7%|▋         | 7/100 [00:00<00:08, 11.36it/s]\u001b[A\n",
            "Files in disco:   9%|▉         | 9/100 [00:00<00:07, 11.79it/s]\u001b[A\n",
            "Files in disco:  11%|█         | 11/100 [00:00<00:07, 12.10it/s]\u001b[A\n",
            "Files in disco:  13%|█▎        | 13/100 [00:01<00:07, 12.26it/s]\u001b[A\n",
            "Files in disco:  15%|█▌        | 15/100 [00:01<00:06, 12.57it/s]\u001b[A\n",
            "Files in disco:  17%|█▋        | 17/100 [00:01<00:06, 12.68it/s]\u001b[A\n",
            "Files in disco:  19%|█▉        | 19/100 [00:01<00:06, 12.07it/s]\u001b[A\n",
            "Files in disco:  21%|██        | 21/100 [00:01<00:06, 12.27it/s]\u001b[A\n",
            "Files in disco:  23%|██▎       | 23/100 [00:01<00:06, 12.20it/s]\u001b[A\n",
            "Files in disco:  25%|██▌       | 25/100 [00:02<00:06, 12.39it/s]\u001b[A\n",
            "Files in disco:  27%|██▋       | 27/100 [00:02<00:05, 12.59it/s]\u001b[A\n",
            "Files in disco:  29%|██▉       | 29/100 [00:02<00:05, 12.61it/s]\u001b[A\n",
            "Files in disco:  31%|███       | 31/100 [00:02<00:05, 12.39it/s]\u001b[A\n",
            "Files in disco:  33%|███▎      | 33/100 [00:02<00:05, 12.33it/s]\u001b[A\n",
            "Files in disco:  35%|███▌      | 35/100 [00:02<00:05, 12.46it/s]\u001b[A\n",
            "Files in disco:  37%|███▋      | 37/100 [00:03<00:04, 12.64it/s]\u001b[A\n",
            "Files in disco:  39%|███▉      | 39/100 [00:03<00:04, 12.78it/s]\u001b[A\n",
            "Files in disco:  41%|████      | 41/100 [00:03<00:04, 12.70it/s]\u001b[A\n",
            "Files in disco:  43%|████▎     | 43/100 [00:03<00:04, 12.86it/s]\u001b[A\n",
            "Files in disco:  45%|████▌     | 45/100 [00:03<00:04, 12.34it/s]\u001b[A\n",
            "Files in disco:  47%|████▋     | 47/100 [00:03<00:04, 12.45it/s]\u001b[A\n",
            "Files in disco:  49%|████▉     | 49/100 [00:03<00:04, 12.54it/s]\u001b[A\n",
            "Files in disco:  51%|█████     | 51/100 [00:04<00:03, 12.77it/s]\u001b[A\n",
            "Files in disco:  53%|█████▎    | 53/100 [00:04<00:03, 12.90it/s]\u001b[A\n",
            "Files in disco:  55%|█████▌    | 55/100 [00:04<00:03, 13.06it/s]\u001b[A\n",
            "Files in disco:  58%|█████▊    | 58/100 [00:04<00:02, 15.03it/s]\u001b[A\n",
            "Files in disco:  60%|██████    | 60/100 [00:04<00:02, 13.58it/s]\u001b[A\n",
            "Files in disco:  62%|██████▏   | 62/100 [00:04<00:02, 13.37it/s]\u001b[A\n",
            "Files in disco:  64%|██████▍   | 64/100 [00:05<00:05,  6.97it/s]\u001b[A\n",
            "Files in disco:  66%|██████▌   | 66/100 [00:05<00:04,  7.85it/s]\u001b[A\n",
            "Files in disco:  68%|██████▊   | 68/100 [00:05<00:03,  8.81it/s]\u001b[A\n",
            "Files in disco:  70%|███████   | 70/100 [00:06<00:03,  9.70it/s]\u001b[A\n",
            "Files in disco:  72%|███████▏  | 72/100 [00:06<00:02, 10.43it/s]\u001b[A\n",
            "Files in disco:  74%|███████▍  | 74/100 [00:06<00:02, 11.12it/s]\u001b[A\n",
            "Files in disco:  76%|███████▌  | 76/100 [00:06<00:02, 11.28it/s]\u001b[A\n",
            "Files in disco:  78%|███████▊  | 78/100 [00:06<00:02,  9.28it/s]\u001b[A\n",
            "Files in disco:  80%|████████  | 80/100 [00:07<00:02,  8.52it/s]\u001b[A\n",
            "Files in disco:  81%|████████  | 81/100 [00:07<00:02,  8.21it/s]\u001b[A\n",
            "Files in disco:  82%|████████▏ | 82/100 [00:07<00:03,  4.97it/s]\u001b[A\n",
            "Files in disco:  83%|████████▎ | 83/100 [00:08<00:04,  4.23it/s]\u001b[A\n",
            "Files in disco:  84%|████████▍ | 84/100 [00:08<00:04,  3.63it/s]\u001b[A\n",
            "Files in disco:  85%|████████▌ | 85/100 [00:08<00:03,  4.19it/s]\u001b[A\n",
            "Files in disco:  86%|████████▌ | 86/100 [00:08<00:02,  4.68it/s]\u001b[A\n",
            "Files in disco:  87%|████████▋ | 87/100 [00:08<00:02,  4.96it/s]\u001b[A\n",
            "Files in disco:  88%|████████▊ | 88/100 [00:09<00:02,  5.29it/s]\u001b[A\n",
            "Files in disco:  89%|████████▉ | 89/100 [00:09<00:01,  5.63it/s]\u001b[A\n",
            "Files in disco:  90%|█████████ | 90/100 [00:09<00:02,  4.92it/s]\u001b[A\n",
            "Files in disco:  92%|█████████▏| 92/100 [00:09<00:01,  6.75it/s]\u001b[A\n",
            "Files in disco:  94%|█████████▍| 94/100 [00:09<00:00,  8.23it/s]\u001b[A\n",
            "Files in disco:  96%|█████████▌| 96/100 [00:10<00:00,  9.19it/s]\u001b[A\n",
            "Files in disco:  98%|█████████▊| 98/100 [00:10<00:00, 10.08it/s]\u001b[A\n",
            "Files in disco: 100%|██████████| 100/100 [00:10<00:00, 10.86it/s]\u001b[A\n",
            "Processing Genres: 9it [01:30,  9.91s/it]"
          ]
        },
        {
          "output_type": "stream",
          "name": "stdout",
          "text": [
            "\n",
            "Genre 9: pop\n"
          ]
        },
        {
          "output_type": "stream",
          "name": "stderr",
          "text": [
            "\n",
            "Files in pop:   0%|          | 0/100 [00:00<?, ?it/s]\u001b[A\n",
            "Files in pop:   2%|▏         | 2/100 [00:00<00:07, 13.88it/s]\u001b[A\n",
            "Files in pop:   4%|▍         | 4/100 [00:00<00:07, 12.98it/s]\u001b[A\n",
            "Files in pop:   6%|▌         | 6/100 [00:00<00:07, 12.85it/s]\u001b[A\n",
            "Files in pop:   8%|▊         | 8/100 [00:00<00:07, 12.84it/s]\u001b[A\n",
            "Files in pop:  10%|█         | 10/100 [00:00<00:07, 11.79it/s]\u001b[A\n",
            "Files in pop:  12%|█▏        | 12/100 [00:00<00:07, 12.17it/s]\u001b[A\n",
            "Files in pop:  14%|█▍        | 14/100 [00:01<00:06, 12.42it/s]\u001b[A\n",
            "Files in pop:  16%|█▌        | 16/100 [00:01<00:06, 12.52it/s]\u001b[A\n",
            "Files in pop:  18%|█▊        | 18/100 [00:01<00:06, 12.52it/s]\u001b[A\n",
            "Files in pop:  20%|██        | 20/100 [00:01<00:06, 12.58it/s]\u001b[A\n",
            "Files in pop:  22%|██▏       | 22/100 [00:01<00:06, 12.02it/s]\u001b[A\n",
            "Files in pop:  24%|██▍       | 24/100 [00:01<00:06, 12.42it/s]\u001b[A\n",
            "Files in pop:  26%|██▌       | 26/100 [00:02<00:05, 12.49it/s]\u001b[A\n",
            "Files in pop:  28%|██▊       | 28/100 [00:02<00:05, 12.66it/s]\u001b[A\n",
            "Files in pop:  30%|███       | 30/100 [00:02<00:05, 12.42it/s]\u001b[A\n",
            "Files in pop:  32%|███▏      | 32/100 [00:02<00:05, 12.31it/s]\u001b[A\n",
            "Files in pop:  34%|███▍      | 34/100 [00:02<00:05, 12.17it/s]\u001b[A\n",
            "Files in pop:  36%|███▌      | 36/100 [00:02<00:05, 11.99it/s]\u001b[A\n",
            "Files in pop:  38%|███▊      | 38/100 [00:03<00:05, 12.19it/s]\u001b[A\n",
            "Files in pop:  40%|████      | 40/100 [00:03<00:04, 12.38it/s]\u001b[A\n",
            "Files in pop:  42%|████▏     | 42/100 [00:03<00:04, 12.37it/s]\u001b[A\n",
            "Files in pop:  44%|████▍     | 44/100 [00:03<00:04, 12.18it/s]\u001b[A\n",
            "Files in pop:  46%|████▌     | 46/100 [00:03<00:04, 12.36it/s]\u001b[A\n",
            "Files in pop:  48%|████▊     | 48/100 [00:03<00:04, 12.13it/s]\u001b[A\n",
            "Files in pop:  50%|█████     | 50/100 [00:04<00:04, 12.31it/s]\u001b[A\n",
            "Files in pop:  52%|█████▏    | 52/100 [00:04<00:03, 12.40it/s]\u001b[A\n",
            "Files in pop:  54%|█████▍    | 54/100 [00:04<00:03, 12.44it/s]\u001b[A\n",
            "Files in pop:  56%|█████▌    | 56/100 [00:04<00:03, 12.38it/s]\u001b[A\n",
            "Files in pop:  58%|█████▊    | 58/100 [00:04<00:03, 12.53it/s]\u001b[A\n",
            "Files in pop:  60%|██████    | 60/100 [00:04<00:03, 12.64it/s]\u001b[A\n",
            "Files in pop:  62%|██████▏   | 62/100 [00:05<00:03, 12.18it/s]\u001b[A\n",
            "Files in pop:  64%|██████▍   | 64/100 [00:05<00:02, 12.40it/s]\u001b[A\n",
            "Files in pop:  66%|██████▌   | 66/100 [00:05<00:02, 12.61it/s]\u001b[A\n",
            "Files in pop:  68%|██████▊   | 68/100 [00:05<00:02, 12.53it/s]\u001b[A\n",
            "Files in pop:  70%|███████   | 70/100 [00:05<00:02, 12.51it/s]\u001b[A\n",
            "Files in pop:  72%|███████▏  | 72/100 [00:05<00:02, 12.48it/s]\u001b[A\n",
            "Files in pop:  74%|███████▍  | 74/100 [00:05<00:02, 12.04it/s]\u001b[A\n",
            "Files in pop:  76%|███████▌  | 76/100 [00:06<00:01, 12.36it/s]\u001b[A\n",
            "Files in pop:  78%|███████▊  | 78/100 [00:06<00:01, 12.51it/s]\u001b[A\n",
            "Files in pop:  80%|████████  | 80/100 [00:06<00:01, 12.67it/s]\u001b[A\n",
            "Files in pop:  82%|████████▏ | 82/100 [00:06<00:01, 12.67it/s]\u001b[A\n",
            "Files in pop:  84%|████████▍ | 84/100 [00:06<00:01, 12.58it/s]\u001b[A\n",
            "Files in pop:  86%|████████▌ | 86/100 [00:06<00:01, 12.79it/s]\u001b[A\n",
            "Files in pop:  88%|████████▊ | 88/100 [00:07<00:00, 12.53it/s]\u001b[A\n",
            "Files in pop:  90%|█████████ | 90/100 [00:07<00:00, 12.50it/s]\u001b[A\n",
            "Files in pop:  92%|█████████▏| 92/100 [00:07<00:00, 12.70it/s]\u001b[A\n",
            "Files in pop:  94%|█████████▍| 94/100 [00:07<00:00, 12.84it/s]\u001b[A\n",
            "Files in pop:  96%|█████████▌| 96/100 [00:07<00:00, 12.81it/s]\u001b[A\n",
            "Files in pop:  98%|█████████▊| 98/100 [00:07<00:00, 12.89it/s]\u001b[A\n",
            "Files in pop: 100%|██████████| 100/100 [00:08<00:00, 12.37it/s]\u001b[A\n",
            "Processing Genres: 10it [01:38,  9.34s/it]"
          ]
        },
        {
          "output_type": "stream",
          "name": "stdout",
          "text": [
            "\n",
            "Genre 10: reggae\n"
          ]
        },
        {
          "output_type": "stream",
          "name": "stderr",
          "text": [
            "\n",
            "Files in reggae:   0%|          | 0/100 [00:00<?, ?it/s]\u001b[A\n",
            "Files in reggae:   2%|▏         | 2/100 [00:00<00:08, 12.24it/s]\u001b[A\n",
            "Files in reggae:   4%|▍         | 4/100 [00:00<00:07, 12.69it/s]\u001b[A\n",
            "Files in reggae:   6%|▌         | 6/100 [00:00<00:07, 12.66it/s]\u001b[A\n",
            "Files in reggae:   8%|▊         | 8/100 [00:00<00:07, 12.63it/s]\u001b[A\n",
            "Files in reggae:  10%|█         | 10/100 [00:00<00:07, 12.58it/s]\u001b[A\n",
            "Files in reggae:  12%|█▏        | 12/100 [00:00<00:06, 12.67it/s]\u001b[A\n",
            "Files in reggae:  14%|█▍        | 14/100 [00:01<00:07, 11.08it/s]\u001b[A\n",
            "Files in reggae:  16%|█▌        | 16/100 [00:01<00:09,  9.28it/s]\u001b[A\n",
            "Files in reggae:  17%|█▋        | 17/100 [00:01<00:14,  5.91it/s]\u001b[A\n",
            "Files in reggae:  18%|█▊        | 18/100 [00:02<00:13,  6.04it/s]\u001b[A\n",
            "Files in reggae:  19%|█▉        | 19/100 [00:02<00:13,  5.90it/s]\u001b[A\n",
            "Files in reggae:  20%|██        | 20/100 [00:02<00:12,  6.37it/s]\u001b[A\n",
            "Files in reggae:  21%|██        | 21/100 [00:02<00:12,  6.20it/s]\u001b[A\n",
            "Files in reggae:  22%|██▏       | 22/100 [00:02<00:17,  4.39it/s]\u001b[A\n",
            "Files in reggae:  23%|██▎       | 23/100 [00:03<00:18,  4.25it/s]\u001b[A\n",
            "Files in reggae:  24%|██▍       | 24/100 [00:03<00:16,  4.70it/s]\u001b[A\n",
            "Files in reggae:  25%|██▌       | 25/100 [00:03<00:13,  5.53it/s]\u001b[A\n",
            "Files in reggae:  26%|██▌       | 26/100 [00:03<00:14,  5.27it/s]\u001b[A\n",
            "Files in reggae:  27%|██▋       | 27/100 [00:03<00:14,  5.11it/s]\u001b[A\n",
            "Files in reggae:  28%|██▊       | 28/100 [00:04<00:15,  4.69it/s]\u001b[A\n",
            "Files in reggae:  30%|███       | 30/100 [00:04<00:10,  6.47it/s]\u001b[A\n",
            "Files in reggae:  32%|███▏      | 32/100 [00:04<00:08,  8.05it/s]\u001b[A\n",
            "Files in reggae:  34%|███▍      | 34/100 [00:04<00:07,  9.32it/s]\u001b[A\n",
            "Files in reggae:  36%|███▌      | 36/100 [00:04<00:06, 10.35it/s]\u001b[A\n",
            "Files in reggae:  38%|███▊      | 38/100 [00:04<00:05, 11.06it/s]\u001b[A\n",
            "Files in reggae:  40%|████      | 40/100 [00:05<00:05, 11.68it/s]\u001b[A\n",
            "Files in reggae:  42%|████▏     | 42/100 [00:05<00:04, 12.03it/s]\u001b[A\n",
            "Files in reggae:  44%|████▍     | 44/100 [00:05<00:04, 11.53it/s]\u001b[A\n",
            "Files in reggae:  46%|████▌     | 46/100 [00:05<00:04, 11.94it/s]\u001b[A\n",
            "Files in reggae:  48%|████▊     | 48/100 [00:05<00:04, 12.19it/s]\u001b[A\n",
            "Files in reggae:  50%|█████     | 50/100 [00:05<00:03, 12.63it/s]\u001b[A\n",
            "Files in reggae:  52%|█████▏    | 52/100 [00:06<00:03, 12.73it/s]\u001b[A\n",
            "Files in reggae:  54%|█████▍    | 54/100 [00:06<00:03, 12.80it/s]\u001b[A\n",
            "Files in reggae:  56%|█████▌    | 56/100 [00:06<00:03, 12.84it/s]\u001b[A\n",
            "Files in reggae:  58%|█████▊    | 58/100 [00:06<00:03, 12.39it/s]\u001b[A\n",
            "Files in reggae:  60%|██████    | 60/100 [00:06<00:03, 12.47it/s]\u001b[A\n",
            "Files in reggae:  62%|██████▏   | 62/100 [00:06<00:03, 12.51it/s]\u001b[A\n",
            "Files in reggae:  64%|██████▍   | 64/100 [00:06<00:02, 12.62it/s]\u001b[A\n",
            "Files in reggae:  66%|██████▌   | 66/100 [00:07<00:02, 12.85it/s]\u001b[A\n",
            "Files in reggae:  68%|██████▊   | 68/100 [00:07<00:02, 12.76it/s]\u001b[A\n",
            "Files in reggae:  70%|███████   | 70/100 [00:07<00:02, 12.37it/s]\u001b[A\n",
            "Files in reggae:  72%|███████▏  | 72/100 [00:07<00:02, 12.63it/s]\u001b[A\n",
            "Files in reggae:  74%|███████▍  | 74/100 [00:07<00:02, 12.66it/s]\u001b[A\n",
            "Files in reggae:  76%|███████▌  | 76/100 [00:07<00:01, 12.66it/s]\u001b[A\n",
            "Files in reggae:  78%|███████▊  | 78/100 [00:08<00:01, 12.75it/s]\u001b[A\n",
            "Files in reggae:  80%|████████  | 80/100 [00:08<00:01, 12.77it/s]\u001b[A\n",
            "Files in reggae:  82%|████████▏ | 82/100 [00:08<00:01, 12.80it/s]\u001b[A\n",
            "Files in reggae:  84%|████████▍ | 84/100 [00:08<00:01, 12.26it/s]\u001b[A\n",
            "Files in reggae:  86%|████████▌ | 86/100 [00:08<00:01, 12.53it/s]\u001b[A\n",
            "Files in reggae:  88%|████████▊ | 88/100 [00:08<00:00, 12.71it/s]\u001b[A\n",
            "Files in reggae:  90%|█████████ | 90/100 [00:09<00:00, 12.84it/s]\u001b[A\n",
            "Files in reggae:  92%|█████████▏| 92/100 [00:09<00:00, 12.81it/s]\u001b[A\n",
            "Files in reggae:  94%|█████████▍| 94/100 [00:09<00:00, 12.95it/s]\u001b[A\n",
            "Files in reggae:  96%|█████████▌| 96/100 [00:09<00:00, 12.64it/s]\u001b[A\n",
            "Files in reggae:  98%|█████████▊| 98/100 [00:09<00:00, 12.47it/s]\u001b[A\n",
            "Files in reggae: 100%|██████████| 100/100 [00:09<00:00, 12.70it/s]\u001b[A\n",
            "Processing Genres: 11it [01:48,  9.82s/it]\n"
          ]
        },
        {
          "output_type": "stream",
          "name": "stdout",
          "text": [
            "\n",
            "Preprocessing complete. Total segments: 9900\n"
          ]
        },
        {
          "output_type": "display_data",
          "data": {
            "text/plain": [
              "\u001b[1mModel: \"sequential\"\u001b[0m\n"
            ],
            "text/html": [
              "<pre style=\"white-space:pre;overflow-x:auto;line-height:normal;font-family:Menlo,'DejaVu Sans Mono',consolas,'Courier New',monospace\"><span style=\"font-weight: bold\">Model: \"sequential\"</span>\n",
              "</pre>\n"
            ]
          },
          "metadata": {}
        },
        {
          "output_type": "display_data",
          "data": {
            "text/plain": [
              "┏━━━━━━━━━━━━━━━━━━━━━━━━━━━━━━━━━┳━━━━━━━━━━━━━━━━━━━━━━━━┳━━━━━━━━━━━━━━━┓\n",
              "┃\u001b[1m \u001b[0m\u001b[1mLayer (type)                   \u001b[0m\u001b[1m \u001b[0m┃\u001b[1m \u001b[0m\u001b[1mOutput Shape          \u001b[0m\u001b[1m \u001b[0m┃\u001b[1m \u001b[0m\u001b[1m      Param #\u001b[0m\u001b[1m \u001b[0m┃\n",
              "┡━━━━━━━━━━━━━━━━━━━━━━━━━━━━━━━━━╇━━━━━━━━━━━━━━━━━━━━━━━━╇━━━━━━━━━━━━━━━┩\n",
              "│ conv2d (\u001b[38;5;33mConv2D\u001b[0m)                 │ (\u001b[38;5;45mNone\u001b[0m, \u001b[38;5;34m13\u001b[0m, \u001b[38;5;34m130\u001b[0m, \u001b[38;5;34m256\u001b[0m)   │         \u001b[38;5;34m2,560\u001b[0m │\n",
              "├─────────────────────────────────┼────────────────────────┼───────────────┤\n",
              "│ max_pooling2d (\u001b[38;5;33mMaxPooling2D\u001b[0m)    │ (\u001b[38;5;45mNone\u001b[0m, \u001b[38;5;34m7\u001b[0m, \u001b[38;5;34m65\u001b[0m, \u001b[38;5;34m256\u001b[0m)     │             \u001b[38;5;34m0\u001b[0m │\n",
              "├─────────────────────────────────┼────────────────────────┼───────────────┤\n",
              "│ batch_normalization             │ (\u001b[38;5;45mNone\u001b[0m, \u001b[38;5;34m7\u001b[0m, \u001b[38;5;34m65\u001b[0m, \u001b[38;5;34m256\u001b[0m)     │         \u001b[38;5;34m1,024\u001b[0m │\n",
              "│ (\u001b[38;5;33mBatchNormalization\u001b[0m)            │                        │               │\n",
              "├─────────────────────────────────┼────────────────────────┼───────────────┤\n",
              "│ conv2d_1 (\u001b[38;5;33mConv2D\u001b[0m)               │ (\u001b[38;5;45mNone\u001b[0m, \u001b[38;5;34m7\u001b[0m, \u001b[38;5;34m65\u001b[0m, \u001b[38;5;34m128\u001b[0m)     │       \u001b[38;5;34m295,040\u001b[0m │\n",
              "├─────────────────────────────────┼────────────────────────┼───────────────┤\n",
              "│ max_pooling2d_1 (\u001b[38;5;33mMaxPooling2D\u001b[0m)  │ (\u001b[38;5;45mNone\u001b[0m, \u001b[38;5;34m4\u001b[0m, \u001b[38;5;34m33\u001b[0m, \u001b[38;5;34m128\u001b[0m)     │             \u001b[38;5;34m0\u001b[0m │\n",
              "├─────────────────────────────────┼────────────────────────┼───────────────┤\n",
              "│ batch_normalization_1           │ (\u001b[38;5;45mNone\u001b[0m, \u001b[38;5;34m4\u001b[0m, \u001b[38;5;34m33\u001b[0m, \u001b[38;5;34m128\u001b[0m)     │           \u001b[38;5;34m512\u001b[0m │\n",
              "│ (\u001b[38;5;33mBatchNormalization\u001b[0m)            │                        │               │\n",
              "├─────────────────────────────────┼────────────────────────┼───────────────┤\n",
              "│ conv2d_2 (\u001b[38;5;33mConv2D\u001b[0m)               │ (\u001b[38;5;45mNone\u001b[0m, \u001b[38;5;34m4\u001b[0m, \u001b[38;5;34m33\u001b[0m, \u001b[38;5;34m64\u001b[0m)      │        \u001b[38;5;34m73,792\u001b[0m │\n",
              "├─────────────────────────────────┼────────────────────────┼───────────────┤\n",
              "│ max_pooling2d_2 (\u001b[38;5;33mMaxPooling2D\u001b[0m)  │ (\u001b[38;5;45mNone\u001b[0m, \u001b[38;5;34m2\u001b[0m, \u001b[38;5;34m16\u001b[0m, \u001b[38;5;34m64\u001b[0m)      │             \u001b[38;5;34m0\u001b[0m │\n",
              "├─────────────────────────────────┼────────────────────────┼───────────────┤\n",
              "│ batch_normalization_2           │ (\u001b[38;5;45mNone\u001b[0m, \u001b[38;5;34m2\u001b[0m, \u001b[38;5;34m16\u001b[0m, \u001b[38;5;34m64\u001b[0m)      │           \u001b[38;5;34m256\u001b[0m │\n",
              "│ (\u001b[38;5;33mBatchNormalization\u001b[0m)            │                        │               │\n",
              "├─────────────────────────────────┼────────────────────────┼───────────────┤\n",
              "│ conv2d_3 (\u001b[38;5;33mConv2D\u001b[0m)               │ (\u001b[38;5;45mNone\u001b[0m, \u001b[38;5;34m2\u001b[0m, \u001b[38;5;34m16\u001b[0m, \u001b[38;5;34m64\u001b[0m)      │        \u001b[38;5;34m16,448\u001b[0m │\n",
              "├─────────────────────────────────┼────────────────────────┼───────────────┤\n",
              "│ max_pooling2d_3 (\u001b[38;5;33mMaxPooling2D\u001b[0m)  │ (\u001b[38;5;45mNone\u001b[0m, \u001b[38;5;34m1\u001b[0m, \u001b[38;5;34m8\u001b[0m, \u001b[38;5;34m64\u001b[0m)       │             \u001b[38;5;34m0\u001b[0m │\n",
              "├─────────────────────────────────┼────────────────────────┼───────────────┤\n",
              "│ batch_normalization_3           │ (\u001b[38;5;45mNone\u001b[0m, \u001b[38;5;34m1\u001b[0m, \u001b[38;5;34m8\u001b[0m, \u001b[38;5;34m64\u001b[0m)       │           \u001b[38;5;34m256\u001b[0m │\n",
              "│ (\u001b[38;5;33mBatchNormalization\u001b[0m)            │                        │               │\n",
              "├─────────────────────────────────┼────────────────────────┼───────────────┤\n",
              "│ flatten (\u001b[38;5;33mFlatten\u001b[0m)               │ (\u001b[38;5;45mNone\u001b[0m, \u001b[38;5;34m512\u001b[0m)            │             \u001b[38;5;34m0\u001b[0m │\n",
              "├─────────────────────────────────┼────────────────────────┼───────────────┤\n",
              "│ dense (\u001b[38;5;33mDense\u001b[0m)                   │ (\u001b[38;5;45mNone\u001b[0m, \u001b[38;5;34m64\u001b[0m)             │        \u001b[38;5;34m32,832\u001b[0m │\n",
              "├─────────────────────────────────┼────────────────────────┼───────────────┤\n",
              "│ dropout (\u001b[38;5;33mDropout\u001b[0m)               │ (\u001b[38;5;45mNone\u001b[0m, \u001b[38;5;34m64\u001b[0m)             │             \u001b[38;5;34m0\u001b[0m │\n",
              "├─────────────────────────────────┼────────────────────────┼───────────────┤\n",
              "│ dense_1 (\u001b[38;5;33mDense\u001b[0m)                 │ (\u001b[38;5;45mNone\u001b[0m, \u001b[38;5;34m10\u001b[0m)             │           \u001b[38;5;34m650\u001b[0m │\n",
              "└─────────────────────────────────┴────────────────────────┴───────────────┘\n"
            ],
            "text/html": [
              "<pre style=\"white-space:pre;overflow-x:auto;line-height:normal;font-family:Menlo,'DejaVu Sans Mono',consolas,'Courier New',monospace\">┏━━━━━━━━━━━━━━━━━━━━━━━━━━━━━━━━━┳━━━━━━━━━━━━━━━━━━━━━━━━┳━━━━━━━━━━━━━━━┓\n",
              "┃<span style=\"font-weight: bold\"> Layer (type)                    </span>┃<span style=\"font-weight: bold\"> Output Shape           </span>┃<span style=\"font-weight: bold\">       Param # </span>┃\n",
              "┡━━━━━━━━━━━━━━━━━━━━━━━━━━━━━━━━━╇━━━━━━━━━━━━━━━━━━━━━━━━╇━━━━━━━━━━━━━━━┩\n",
              "│ conv2d (<span style=\"color: #0087ff; text-decoration-color: #0087ff\">Conv2D</span>)                 │ (<span style=\"color: #00d7ff; text-decoration-color: #00d7ff\">None</span>, <span style=\"color: #00af00; text-decoration-color: #00af00\">13</span>, <span style=\"color: #00af00; text-decoration-color: #00af00\">130</span>, <span style=\"color: #00af00; text-decoration-color: #00af00\">256</span>)   │         <span style=\"color: #00af00; text-decoration-color: #00af00\">2,560</span> │\n",
              "├─────────────────────────────────┼────────────────────────┼───────────────┤\n",
              "│ max_pooling2d (<span style=\"color: #0087ff; text-decoration-color: #0087ff\">MaxPooling2D</span>)    │ (<span style=\"color: #00d7ff; text-decoration-color: #00d7ff\">None</span>, <span style=\"color: #00af00; text-decoration-color: #00af00\">7</span>, <span style=\"color: #00af00; text-decoration-color: #00af00\">65</span>, <span style=\"color: #00af00; text-decoration-color: #00af00\">256</span>)     │             <span style=\"color: #00af00; text-decoration-color: #00af00\">0</span> │\n",
              "├─────────────────────────────────┼────────────────────────┼───────────────┤\n",
              "│ batch_normalization             │ (<span style=\"color: #00d7ff; text-decoration-color: #00d7ff\">None</span>, <span style=\"color: #00af00; text-decoration-color: #00af00\">7</span>, <span style=\"color: #00af00; text-decoration-color: #00af00\">65</span>, <span style=\"color: #00af00; text-decoration-color: #00af00\">256</span>)     │         <span style=\"color: #00af00; text-decoration-color: #00af00\">1,024</span> │\n",
              "│ (<span style=\"color: #0087ff; text-decoration-color: #0087ff\">BatchNormalization</span>)            │                        │               │\n",
              "├─────────────────────────────────┼────────────────────────┼───────────────┤\n",
              "│ conv2d_1 (<span style=\"color: #0087ff; text-decoration-color: #0087ff\">Conv2D</span>)               │ (<span style=\"color: #00d7ff; text-decoration-color: #00d7ff\">None</span>, <span style=\"color: #00af00; text-decoration-color: #00af00\">7</span>, <span style=\"color: #00af00; text-decoration-color: #00af00\">65</span>, <span style=\"color: #00af00; text-decoration-color: #00af00\">128</span>)     │       <span style=\"color: #00af00; text-decoration-color: #00af00\">295,040</span> │\n",
              "├─────────────────────────────────┼────────────────────────┼───────────────┤\n",
              "│ max_pooling2d_1 (<span style=\"color: #0087ff; text-decoration-color: #0087ff\">MaxPooling2D</span>)  │ (<span style=\"color: #00d7ff; text-decoration-color: #00d7ff\">None</span>, <span style=\"color: #00af00; text-decoration-color: #00af00\">4</span>, <span style=\"color: #00af00; text-decoration-color: #00af00\">33</span>, <span style=\"color: #00af00; text-decoration-color: #00af00\">128</span>)     │             <span style=\"color: #00af00; text-decoration-color: #00af00\">0</span> │\n",
              "├─────────────────────────────────┼────────────────────────┼───────────────┤\n",
              "│ batch_normalization_1           │ (<span style=\"color: #00d7ff; text-decoration-color: #00d7ff\">None</span>, <span style=\"color: #00af00; text-decoration-color: #00af00\">4</span>, <span style=\"color: #00af00; text-decoration-color: #00af00\">33</span>, <span style=\"color: #00af00; text-decoration-color: #00af00\">128</span>)     │           <span style=\"color: #00af00; text-decoration-color: #00af00\">512</span> │\n",
              "│ (<span style=\"color: #0087ff; text-decoration-color: #0087ff\">BatchNormalization</span>)            │                        │               │\n",
              "├─────────────────────────────────┼────────────────────────┼───────────────┤\n",
              "│ conv2d_2 (<span style=\"color: #0087ff; text-decoration-color: #0087ff\">Conv2D</span>)               │ (<span style=\"color: #00d7ff; text-decoration-color: #00d7ff\">None</span>, <span style=\"color: #00af00; text-decoration-color: #00af00\">4</span>, <span style=\"color: #00af00; text-decoration-color: #00af00\">33</span>, <span style=\"color: #00af00; text-decoration-color: #00af00\">64</span>)      │        <span style=\"color: #00af00; text-decoration-color: #00af00\">73,792</span> │\n",
              "├─────────────────────────────────┼────────────────────────┼───────────────┤\n",
              "│ max_pooling2d_2 (<span style=\"color: #0087ff; text-decoration-color: #0087ff\">MaxPooling2D</span>)  │ (<span style=\"color: #00d7ff; text-decoration-color: #00d7ff\">None</span>, <span style=\"color: #00af00; text-decoration-color: #00af00\">2</span>, <span style=\"color: #00af00; text-decoration-color: #00af00\">16</span>, <span style=\"color: #00af00; text-decoration-color: #00af00\">64</span>)      │             <span style=\"color: #00af00; text-decoration-color: #00af00\">0</span> │\n",
              "├─────────────────────────────────┼────────────────────────┼───────────────┤\n",
              "│ batch_normalization_2           │ (<span style=\"color: #00d7ff; text-decoration-color: #00d7ff\">None</span>, <span style=\"color: #00af00; text-decoration-color: #00af00\">2</span>, <span style=\"color: #00af00; text-decoration-color: #00af00\">16</span>, <span style=\"color: #00af00; text-decoration-color: #00af00\">64</span>)      │           <span style=\"color: #00af00; text-decoration-color: #00af00\">256</span> │\n",
              "│ (<span style=\"color: #0087ff; text-decoration-color: #0087ff\">BatchNormalization</span>)            │                        │               │\n",
              "├─────────────────────────────────┼────────────────────────┼───────────────┤\n",
              "│ conv2d_3 (<span style=\"color: #0087ff; text-decoration-color: #0087ff\">Conv2D</span>)               │ (<span style=\"color: #00d7ff; text-decoration-color: #00d7ff\">None</span>, <span style=\"color: #00af00; text-decoration-color: #00af00\">2</span>, <span style=\"color: #00af00; text-decoration-color: #00af00\">16</span>, <span style=\"color: #00af00; text-decoration-color: #00af00\">64</span>)      │        <span style=\"color: #00af00; text-decoration-color: #00af00\">16,448</span> │\n",
              "├─────────────────────────────────┼────────────────────────┼───────────────┤\n",
              "│ max_pooling2d_3 (<span style=\"color: #0087ff; text-decoration-color: #0087ff\">MaxPooling2D</span>)  │ (<span style=\"color: #00d7ff; text-decoration-color: #00d7ff\">None</span>, <span style=\"color: #00af00; text-decoration-color: #00af00\">1</span>, <span style=\"color: #00af00; text-decoration-color: #00af00\">8</span>, <span style=\"color: #00af00; text-decoration-color: #00af00\">64</span>)       │             <span style=\"color: #00af00; text-decoration-color: #00af00\">0</span> │\n",
              "├─────────────────────────────────┼────────────────────────┼───────────────┤\n",
              "│ batch_normalization_3           │ (<span style=\"color: #00d7ff; text-decoration-color: #00d7ff\">None</span>, <span style=\"color: #00af00; text-decoration-color: #00af00\">1</span>, <span style=\"color: #00af00; text-decoration-color: #00af00\">8</span>, <span style=\"color: #00af00; text-decoration-color: #00af00\">64</span>)       │           <span style=\"color: #00af00; text-decoration-color: #00af00\">256</span> │\n",
              "│ (<span style=\"color: #0087ff; text-decoration-color: #0087ff\">BatchNormalization</span>)            │                        │               │\n",
              "├─────────────────────────────────┼────────────────────────┼───────────────┤\n",
              "│ flatten (<span style=\"color: #0087ff; text-decoration-color: #0087ff\">Flatten</span>)               │ (<span style=\"color: #00d7ff; text-decoration-color: #00d7ff\">None</span>, <span style=\"color: #00af00; text-decoration-color: #00af00\">512</span>)            │             <span style=\"color: #00af00; text-decoration-color: #00af00\">0</span> │\n",
              "├─────────────────────────────────┼────────────────────────┼───────────────┤\n",
              "│ dense (<span style=\"color: #0087ff; text-decoration-color: #0087ff\">Dense</span>)                   │ (<span style=\"color: #00d7ff; text-decoration-color: #00d7ff\">None</span>, <span style=\"color: #00af00; text-decoration-color: #00af00\">64</span>)             │        <span style=\"color: #00af00; text-decoration-color: #00af00\">32,832</span> │\n",
              "├─────────────────────────────────┼────────────────────────┼───────────────┤\n",
              "│ dropout (<span style=\"color: #0087ff; text-decoration-color: #0087ff\">Dropout</span>)               │ (<span style=\"color: #00d7ff; text-decoration-color: #00d7ff\">None</span>, <span style=\"color: #00af00; text-decoration-color: #00af00\">64</span>)             │             <span style=\"color: #00af00; text-decoration-color: #00af00\">0</span> │\n",
              "├─────────────────────────────────┼────────────────────────┼───────────────┤\n",
              "│ dense_1 (<span style=\"color: #0087ff; text-decoration-color: #0087ff\">Dense</span>)                 │ (<span style=\"color: #00d7ff; text-decoration-color: #00d7ff\">None</span>, <span style=\"color: #00af00; text-decoration-color: #00af00\">10</span>)             │           <span style=\"color: #00af00; text-decoration-color: #00af00\">650</span> │\n",
              "└─────────────────────────────────┴────────────────────────┴───────────────┘\n",
              "</pre>\n"
            ]
          },
          "metadata": {}
        },
        {
          "output_type": "display_data",
          "data": {
            "text/plain": [
              "\u001b[1m Total params: \u001b[0m\u001b[38;5;34m423,370\u001b[0m (1.62 MB)\n"
            ],
            "text/html": [
              "<pre style=\"white-space:pre;overflow-x:auto;line-height:normal;font-family:Menlo,'DejaVu Sans Mono',consolas,'Courier New',monospace\"><span style=\"font-weight: bold\"> Total params: </span><span style=\"color: #00af00; text-decoration-color: #00af00\">423,370</span> (1.62 MB)\n",
              "</pre>\n"
            ]
          },
          "metadata": {}
        },
        {
          "output_type": "display_data",
          "data": {
            "text/plain": [
              "\u001b[1m Trainable params: \u001b[0m\u001b[38;5;34m422,346\u001b[0m (1.61 MB)\n"
            ],
            "text/html": [
              "<pre style=\"white-space:pre;overflow-x:auto;line-height:normal;font-family:Menlo,'DejaVu Sans Mono',consolas,'Courier New',monospace\"><span style=\"font-weight: bold\"> Trainable params: </span><span style=\"color: #00af00; text-decoration-color: #00af00\">422,346</span> (1.61 MB)\n",
              "</pre>\n"
            ]
          },
          "metadata": {}
        },
        {
          "output_type": "display_data",
          "data": {
            "text/plain": [
              "\u001b[1m Non-trainable params: \u001b[0m\u001b[38;5;34m1,024\u001b[0m (4.00 KB)\n"
            ],
            "text/html": [
              "<pre style=\"white-space:pre;overflow-x:auto;line-height:normal;font-family:Menlo,'DejaVu Sans Mono',consolas,'Courier New',monospace\"><span style=\"font-weight: bold\"> Non-trainable params: </span><span style=\"color: #00af00; text-decoration-color: #00af00\">1,024</span> (4.00 KB)\n",
              "</pre>\n"
            ]
          },
          "metadata": {}
        },
        {
          "output_type": "stream",
          "name": "stdout",
          "text": [
            "Epoch 1 | Loss: 1.8004 | Acc: 39.62% | Val Loss: 1.5924 | Val Acc: 42.73%\n",
            "\n",
            "Epoch 1: val_accuracy improved from -inf to 0.42727, saving model to modified_cnn_gtzan_10_classes.h5\n"
          ]
        },
        {
          "output_type": "stream",
          "name": "stderr",
          "text": [
            "WARNING:absl:You are saving your model as an HDF5 file via `model.save()` or `keras.saving.save_model(model)`. This file format is considered legacy. We recommend using instead the native Keras format, e.g. `model.save('my_model.keras')` or `keras.saving.save_model(model, 'my_model.keras')`. \n"
          ]
        },
        {
          "output_type": "stream",
          "name": "stdout",
          "text": [
            "Epoch 2 | Loss: 1.2975 | Acc: 54.50% | Val Loss: 1.2347 | Val Acc: 56.87%\n",
            "\n",
            "Epoch 2: val_accuracy improved from 0.42727 to 0.56869, saving model to modified_cnn_gtzan_10_classes.h5\n"
          ]
        },
        {
          "output_type": "stream",
          "name": "stderr",
          "text": [
            "WARNING:absl:You are saving your model as an HDF5 file via `model.save()` or `keras.saving.save_model(model)`. This file format is considered legacy. We recommend using instead the native Keras format, e.g. `model.save('my_model.keras')` or `keras.saving.save_model(model, 'my_model.keras')`. \n"
          ]
        },
        {
          "output_type": "stream",
          "name": "stdout",
          "text": [
            "Epoch 3 | Loss: 1.1231 | Acc: 60.75% | Val Loss: 1.1125 | Val Acc: 62.15%\n",
            "\n",
            "Epoch 3: val_accuracy improved from 0.56869 to 0.62155, saving model to modified_cnn_gtzan_10_classes.h5\n"
          ]
        },
        {
          "output_type": "stream",
          "name": "stderr",
          "text": [
            "WARNING:absl:You are saving your model as an HDF5 file via `model.save()` or `keras.saving.save_model(model)`. This file format is considered legacy. We recommend using instead the native Keras format, e.g. `model.save('my_model.keras')` or `keras.saving.save_model(model, 'my_model.keras')`. \n"
          ]
        },
        {
          "output_type": "stream",
          "name": "stdout",
          "text": [
            "Epoch 4 | Loss: 0.9978 | Acc: 64.94% | Val Loss: 0.9681 | Val Acc: 67.14%\n",
            "\n",
            "Epoch 4: val_accuracy improved from 0.62155 to 0.67138, saving model to modified_cnn_gtzan_10_classes.h5\n"
          ]
        },
        {
          "output_type": "stream",
          "name": "stderr",
          "text": [
            "WARNING:absl:You are saving your model as an HDF5 file via `model.save()` or `keras.saving.save_model(model)`. This file format is considered legacy. We recommend using instead the native Keras format, e.g. `model.save('my_model.keras')` or `keras.saving.save_model(model, 'my_model.keras')`. \n"
          ]
        },
        {
          "output_type": "stream",
          "name": "stdout",
          "text": [
            "Epoch 5 | Loss: 0.8917 | Acc: 68.72% | Val Loss: 0.9044 | Val Acc: 68.59%\n",
            "\n",
            "Epoch 5: val_accuracy improved from 0.67138 to 0.68586, saving model to modified_cnn_gtzan_10_classes.h5\n"
          ]
        },
        {
          "output_type": "stream",
          "name": "stderr",
          "text": [
            "WARNING:absl:You are saving your model as an HDF5 file via `model.save()` or `keras.saving.save_model(model)`. This file format is considered legacy. We recommend using instead the native Keras format, e.g. `model.save('my_model.keras')` or `keras.saving.save_model(model, 'my_model.keras')`. \n"
          ]
        },
        {
          "output_type": "stream",
          "name": "stdout",
          "text": [
            "Epoch 6 | Loss: 0.8191 | Acc: 71.21% | Val Loss: 0.8586 | Val Acc: 70.00%\n",
            "\n",
            "Epoch 6: val_accuracy improved from 0.68586 to 0.70000, saving model to modified_cnn_gtzan_10_classes.h5\n"
          ]
        },
        {
          "output_type": "stream",
          "name": "stderr",
          "text": [
            "WARNING:absl:You are saving your model as an HDF5 file via `model.save()` or `keras.saving.save_model(model)`. This file format is considered legacy. We recommend using instead the native Keras format, e.g. `model.save('my_model.keras')` or `keras.saving.save_model(model, 'my_model.keras')`. \n"
          ]
        },
        {
          "output_type": "stream",
          "name": "stdout",
          "text": [
            "Epoch 7 | Loss: 0.7439 | Acc: 73.87% | Val Loss: 0.8115 | Val Acc: 72.69%\n",
            "\n",
            "Epoch 7: val_accuracy improved from 0.70000 to 0.72694, saving model to modified_cnn_gtzan_10_classes.h5\n"
          ]
        },
        {
          "output_type": "stream",
          "name": "stderr",
          "text": [
            "WARNING:absl:You are saving your model as an HDF5 file via `model.save()` or `keras.saving.save_model(model)`. This file format is considered legacy. We recommend using instead the native Keras format, e.g. `model.save('my_model.keras')` or `keras.saving.save_model(model, 'my_model.keras')`. \n"
          ]
        },
        {
          "output_type": "stream",
          "name": "stdout",
          "text": [
            "Epoch 8 | Loss: 0.6705 | Acc: 76.96% | Val Loss: 0.8003 | Val Acc: 73.47%\n",
            "\n",
            "Epoch 8: val_accuracy improved from 0.72694 to 0.73468, saving model to modified_cnn_gtzan_10_classes.h5\n"
          ]
        },
        {
          "output_type": "stream",
          "name": "stderr",
          "text": [
            "WARNING:absl:You are saving your model as an HDF5 file via `model.save()` or `keras.saving.save_model(model)`. This file format is considered legacy. We recommend using instead the native Keras format, e.g. `model.save('my_model.keras')` or `keras.saving.save_model(model, 'my_model.keras')`. \n"
          ]
        },
        {
          "output_type": "stream",
          "name": "stdout",
          "text": [
            "Epoch 9 | Loss: 0.6286 | Acc: 78.02% | Val Loss: 0.7776 | Val Acc: 73.67%\n",
            "\n",
            "Epoch 9: val_accuracy improved from 0.73468 to 0.73670, saving model to modified_cnn_gtzan_10_classes.h5\n"
          ]
        },
        {
          "output_type": "stream",
          "name": "stderr",
          "text": [
            "WARNING:absl:You are saving your model as an HDF5 file via `model.save()` or `keras.saving.save_model(model)`. This file format is considered legacy. We recommend using instead the native Keras format, e.g. `model.save('my_model.keras')` or `keras.saving.save_model(model, 'my_model.keras')`. \n"
          ]
        },
        {
          "output_type": "stream",
          "name": "stdout",
          "text": [
            "Epoch 10 | Loss: 0.5761 | Acc: 80.65% | Val Loss: 0.7156 | Val Acc: 75.86%\n",
            "\n",
            "Epoch 10: val_accuracy improved from 0.73670 to 0.75859, saving model to modified_cnn_gtzan_10_classes.h5\n"
          ]
        },
        {
          "output_type": "stream",
          "name": "stderr",
          "text": [
            "WARNING:absl:You are saving your model as an HDF5 file via `model.save()` or `keras.saving.save_model(model)`. This file format is considered legacy. We recommend using instead the native Keras format, e.g. `model.save('my_model.keras')` or `keras.saving.save_model(model, 'my_model.keras')`. \n"
          ]
        },
        {
          "output_type": "stream",
          "name": "stdout",
          "text": [
            "Epoch 11 | Loss: 0.5351 | Acc: 81.27% | Val Loss: 0.6999 | Val Acc: 76.77%\n",
            "\n",
            "Epoch 11: val_accuracy improved from 0.75859 to 0.76768, saving model to modified_cnn_gtzan_10_classes.h5\n"
          ]
        },
        {
          "output_type": "stream",
          "name": "stderr",
          "text": [
            "WARNING:absl:You are saving your model as an HDF5 file via `model.save()` or `keras.saving.save_model(model)`. This file format is considered legacy. We recommend using instead the native Keras format, e.g. `model.save('my_model.keras')` or `keras.saving.save_model(model, 'my_model.keras')`. \n"
          ]
        },
        {
          "output_type": "stream",
          "name": "stdout",
          "text": [
            "Epoch 12 | Loss: 0.4804 | Acc: 83.54% | Val Loss: 0.8024 | Val Acc: 72.93%\n",
            "\n",
            "Epoch 12: val_accuracy did not improve from 0.76768\n",
            "Epoch 13 | Loss: 0.4431 | Acc: 84.88% | Val Loss: 0.7032 | Val Acc: 76.53%\n",
            "\n",
            "Epoch 13: val_accuracy did not improve from 0.76768\n",
            "Epoch 14 | Loss: 0.3933 | Acc: 86.81% | Val Loss: 0.8093 | Val Acc: 73.16%\n",
            "\n",
            "Epoch 14: val_accuracy did not improve from 0.76768\n",
            "Epoch 15 | Loss: 0.3477 | Acc: 88.51% | Val Loss: 0.7109 | Val Acc: 76.57%\n",
            "\n",
            "Epoch 15: val_accuracy did not improve from 0.76768\n",
            "Epoch 16 | Loss: 0.3247 | Acc: 89.55% | Val Loss: 0.8055 | Val Acc: 73.84%\n",
            "\n",
            "Epoch 16: val_accuracy did not improve from 0.76768\n",
            "\n",
            "Epoch 16: ReduceLROnPlateau reducing learning rate to 4.999999873689376e-05.\n",
            "Epoch 17 | Loss: 0.2606 | Acc: 91.93% | Val Loss: 0.6270 | Val Acc: 79.53%\n",
            "\n",
            "Epoch 17: val_accuracy improved from 0.76768 to 0.79529, saving model to modified_cnn_gtzan_10_classes.h5\n"
          ]
        },
        {
          "output_type": "stream",
          "name": "stderr",
          "text": [
            "WARNING:absl:You are saving your model as an HDF5 file via `model.save()` or `keras.saving.save_model(model)`. This file format is considered legacy. We recommend using instead the native Keras format, e.g. `model.save('my_model.keras')` or `keras.saving.save_model(model, 'my_model.keras')`. \n"
          ]
        },
        {
          "output_type": "stream",
          "name": "stdout",
          "text": [
            "Epoch 18 | Loss: 0.2254 | Acc: 93.48% | Val Loss: 0.5836 | Val Acc: 80.17%\n",
            "\n",
            "Epoch 18: val_accuracy improved from 0.79529 to 0.80168, saving model to modified_cnn_gtzan_10_classes.h5\n"
          ]
        },
        {
          "output_type": "stream",
          "name": "stderr",
          "text": [
            "WARNING:absl:You are saving your model as an HDF5 file via `model.save()` or `keras.saving.save_model(model)`. This file format is considered legacy. We recommend using instead the native Keras format, e.g. `model.save('my_model.keras')` or `keras.saving.save_model(model, 'my_model.keras')`. \n"
          ]
        },
        {
          "output_type": "stream",
          "name": "stdout",
          "text": [
            "Epoch 19 | Loss: 0.2116 | Acc: 93.87% | Val Loss: 0.6369 | Val Acc: 79.53%\n",
            "\n",
            "Epoch 19: val_accuracy did not improve from 0.80168\n",
            "Epoch 20 | Loss: 0.1916 | Acc: 94.81% | Val Loss: 0.6404 | Val Acc: 78.96%\n",
            "\n",
            "Epoch 20: val_accuracy did not improve from 0.80168\n",
            "Epoch 21 | Loss: 0.1775 | Acc: 95.35% | Val Loss: 0.5905 | Val Acc: 80.61%\n",
            "\n",
            "Epoch 21: val_accuracy improved from 0.80168 to 0.80606, saving model to modified_cnn_gtzan_10_classes.h5\n"
          ]
        },
        {
          "output_type": "stream",
          "name": "stderr",
          "text": [
            "WARNING:absl:You are saving your model as an HDF5 file via `model.save()` or `keras.saving.save_model(model)`. This file format is considered legacy. We recommend using instead the native Keras format, e.g. `model.save('my_model.keras')` or `keras.saving.save_model(model, 'my_model.keras')`. \n"
          ]
        },
        {
          "output_type": "stream",
          "name": "stdout",
          "text": [
            "Epoch 22 | Loss: 0.1648 | Acc: 95.51% | Val Loss: 0.6275 | Val Acc: 79.66%\n",
            "\n",
            "Epoch 22: val_accuracy did not improve from 0.80606\n",
            "Epoch 23 | Loss: 0.1545 | Acc: 95.93% | Val Loss: 0.6141 | Val Acc: 80.20%\n",
            "\n",
            "Epoch 23: val_accuracy did not improve from 0.80606\n",
            "\n",
            "Epoch 23: ReduceLROnPlateau reducing learning rate to 2.499999936844688e-05.\n",
            "Epoch 24 | Loss: 0.1284 | Acc: 97.03% | Val Loss: 0.5498 | Val Acc: 81.95%\n",
            "\n",
            "Epoch 24: val_accuracy improved from 0.80606 to 0.81953, saving model to modified_cnn_gtzan_10_classes.h5\n"
          ]
        },
        {
          "output_type": "stream",
          "name": "stderr",
          "text": [
            "WARNING:absl:You are saving your model as an HDF5 file via `model.save()` or `keras.saving.save_model(model)`. This file format is considered legacy. We recommend using instead the native Keras format, e.g. `model.save('my_model.keras')` or `keras.saving.save_model(model, 'my_model.keras')`. \n"
          ]
        },
        {
          "output_type": "stream",
          "name": "stdout",
          "text": [
            "Epoch 25 | Loss: 0.1233 | Acc: 97.22% | Val Loss: 0.5800 | Val Acc: 81.58%\n",
            "\n",
            "Epoch 25: val_accuracy did not improve from 0.81953\n",
            "Epoch 26 | Loss: 0.1208 | Acc: 97.07% | Val Loss: 0.5889 | Val Acc: 81.82%\n",
            "\n",
            "Epoch 26: val_accuracy did not improve from 0.81953\n",
            "Epoch 27 | Loss: 0.1042 | Acc: 98.01% | Val Loss: 0.5740 | Val Acc: 81.75%\n",
            "\n",
            "Epoch 27: val_accuracy did not improve from 0.81953\n",
            "Epoch 28 | Loss: 0.0997 | Acc: 97.99% | Val Loss: 0.5203 | Val Acc: 83.40%\n",
            "\n",
            "Epoch 28: val_accuracy improved from 0.81953 to 0.83401, saving model to modified_cnn_gtzan_10_classes.h5\n"
          ]
        },
        {
          "output_type": "stream",
          "name": "stderr",
          "text": [
            "WARNING:absl:You are saving your model as an HDF5 file via `model.save()` or `keras.saving.save_model(model)`. This file format is considered legacy. We recommend using instead the native Keras format, e.g. `model.save('my_model.keras')` or `keras.saving.save_model(model, 'my_model.keras')`. \n"
          ]
        },
        {
          "output_type": "stream",
          "name": "stdout",
          "text": [
            "Epoch 29 | Loss: 0.0920 | Acc: 98.33% | Val Loss: 0.5635 | Val Acc: 81.85%\n",
            "\n",
            "Epoch 29: val_accuracy did not improve from 0.83401\n",
            "Epoch 30 | Loss: 0.0891 | Acc: 98.23% | Val Loss: 0.5487 | Val Acc: 82.29%\n",
            "\n",
            "Epoch 30: val_accuracy did not improve from 0.83401\n",
            "Epoch 31 | Loss: 0.0854 | Acc: 98.20% | Val Loss: 0.5573 | Val Acc: 83.00%\n",
            "\n",
            "Epoch 31: val_accuracy did not improve from 0.83401\n",
            "Epoch 32 | Loss: 0.0870 | Acc: 98.05% | Val Loss: 0.5272 | Val Acc: 83.03%\n",
            "\n",
            "Epoch 32: val_accuracy did not improve from 0.83401\n",
            "Epoch 33 | Loss: 0.0816 | Acc: 98.40% | Val Loss: 0.5480 | Val Acc: 82.69%\n",
            "\n",
            "Epoch 33: val_accuracy did not improve from 0.83401\n",
            "\n",
            "Epoch 33: ReduceLROnPlateau reducing learning rate to 1.249999968422344e-05.\n",
            "Epoch 34 | Loss: 0.0709 | Acc: 98.53% | Val Loss: 0.5051 | Val Acc: 83.57%\n",
            "\n",
            "Epoch 34: val_accuracy improved from 0.83401 to 0.83569, saving model to modified_cnn_gtzan_10_classes.h5\n"
          ]
        },
        {
          "output_type": "stream",
          "name": "stderr",
          "text": [
            "WARNING:absl:You are saving your model as an HDF5 file via `model.save()` or `keras.saving.save_model(model)`. This file format is considered legacy. We recommend using instead the native Keras format, e.g. `model.save('my_model.keras')` or `keras.saving.save_model(model, 'my_model.keras')`. \n"
          ]
        },
        {
          "output_type": "stream",
          "name": "stdout",
          "text": [
            "Epoch 35 | Loss: 0.0684 | Acc: 98.76% | Val Loss: 0.5283 | Val Acc: 83.84%\n",
            "\n",
            "Epoch 35: val_accuracy improved from 0.83569 to 0.83838, saving model to modified_cnn_gtzan_10_classes.h5\n"
          ]
        },
        {
          "output_type": "stream",
          "name": "stderr",
          "text": [
            "WARNING:absl:You are saving your model as an HDF5 file via `model.save()` or `keras.saving.save_model(model)`. This file format is considered legacy. We recommend using instead the native Keras format, e.g. `model.save('my_model.keras')` or `keras.saving.save_model(model, 'my_model.keras')`. \n"
          ]
        },
        {
          "output_type": "stream",
          "name": "stdout",
          "text": [
            "Epoch 36 | Loss: 0.0651 | Acc: 98.98% | Val Loss: 0.5337 | Val Acc: 84.11%\n",
            "\n",
            "Epoch 36: val_accuracy improved from 0.83838 to 0.84108, saving model to modified_cnn_gtzan_10_classes.h5\n"
          ]
        },
        {
          "output_type": "stream",
          "name": "stderr",
          "text": [
            "WARNING:absl:You are saving your model as an HDF5 file via `model.save()` or `keras.saving.save_model(model)`. This file format is considered legacy. We recommend using instead the native Keras format, e.g. `model.save('my_model.keras')` or `keras.saving.save_model(model, 'my_model.keras')`. \n"
          ]
        },
        {
          "output_type": "stream",
          "name": "stdout",
          "text": [
            "Epoch 37 | Loss: 0.0617 | Acc: 98.95% | Val Loss: 0.4991 | Val Acc: 84.44%\n",
            "\n",
            "Epoch 37: val_accuracy improved from 0.84108 to 0.84444, saving model to modified_cnn_gtzan_10_classes.h5\n"
          ]
        },
        {
          "output_type": "stream",
          "name": "stderr",
          "text": [
            "WARNING:absl:You are saving your model as an HDF5 file via `model.save()` or `keras.saving.save_model(model)`. This file format is considered legacy. We recommend using instead the native Keras format, e.g. `model.save('my_model.keras')` or `keras.saving.save_model(model, 'my_model.keras')`. \n"
          ]
        },
        {
          "output_type": "stream",
          "name": "stdout",
          "text": [
            "Epoch 38 | Loss: 0.0651 | Acc: 98.82% | Val Loss: 0.5362 | Val Acc: 83.94%\n",
            "\n",
            "Epoch 38: val_accuracy did not improve from 0.84444\n",
            "Epoch 39 | Loss: 0.0588 | Acc: 99.03% | Val Loss: 0.5166 | Val Acc: 83.84%\n",
            "\n",
            "Epoch 39: val_accuracy did not improve from 0.84444\n",
            "Epoch 40 | Loss: 0.0591 | Acc: 98.99% | Val Loss: 0.5358 | Val Acc: 83.57%\n",
            "\n",
            "Epoch 40: val_accuracy did not improve from 0.84444\n",
            "Epoch 41 | Loss: 0.0561 | Acc: 99.09% | Val Loss: 0.5216 | Val Acc: 84.51%\n",
            "\n",
            "Epoch 41: val_accuracy improved from 0.84444 to 0.84512, saving model to modified_cnn_gtzan_10_classes.h5\n"
          ]
        },
        {
          "output_type": "stream",
          "name": "stderr",
          "text": [
            "WARNING:absl:You are saving your model as an HDF5 file via `model.save()` or `keras.saving.save_model(model)`. This file format is considered legacy. We recommend using instead the native Keras format, e.g. `model.save('my_model.keras')` or `keras.saving.save_model(model, 'my_model.keras')`. \n"
          ]
        },
        {
          "output_type": "stream",
          "name": "stdout",
          "text": [
            "Epoch 42 | Loss: 0.0516 | Acc: 99.21% | Val Loss: 0.5119 | Val Acc: 84.85%\n",
            "\n",
            "Epoch 42: val_accuracy improved from 0.84512 to 0.84848, saving model to modified_cnn_gtzan_10_classes.h5\n"
          ]
        },
        {
          "output_type": "stream",
          "name": "stderr",
          "text": [
            "WARNING:absl:You are saving your model as an HDF5 file via `model.save()` or `keras.saving.save_model(model)`. This file format is considered legacy. We recommend using instead the native Keras format, e.g. `model.save('my_model.keras')` or `keras.saving.save_model(model, 'my_model.keras')`. \n"
          ]
        },
        {
          "output_type": "stream",
          "name": "stdout",
          "text": [
            "\n",
            "Epoch 42: ReduceLROnPlateau reducing learning rate to 6.24999984211172e-06.\n",
            "Epoch 43 | Loss: 0.0486 | Acc: 99.26% | Val Loss: 0.4804 | Val Acc: 85.12%\n",
            "\n",
            "Epoch 43: val_accuracy improved from 0.84848 to 0.85118, saving model to modified_cnn_gtzan_10_classes.h5\n"
          ]
        },
        {
          "output_type": "stream",
          "name": "stderr",
          "text": [
            "WARNING:absl:You are saving your model as an HDF5 file via `model.save()` or `keras.saving.save_model(model)`. This file format is considered legacy. We recommend using instead the native Keras format, e.g. `model.save('my_model.keras')` or `keras.saving.save_model(model, 'my_model.keras')`. \n"
          ]
        },
        {
          "output_type": "stream",
          "name": "stdout",
          "text": [
            "Epoch 44 | Loss: 0.0503 | Acc: 99.18% | Val Loss: 0.4957 | Val Acc: 84.78%\n",
            "\n",
            "Epoch 44: val_accuracy did not improve from 0.85118\n",
            "Epoch 45 | Loss: 0.0455 | Acc: 99.44% | Val Loss: 0.4980 | Val Acc: 85.05%\n",
            "\n",
            "Epoch 45: val_accuracy did not improve from 0.85118\n",
            "Epoch 46 | Loss: 0.0446 | Acc: 99.39% | Val Loss: 0.4795 | Val Acc: 85.19%\n",
            "\n",
            "Epoch 46: val_accuracy improved from 0.85118 to 0.85185, saving model to modified_cnn_gtzan_10_classes.h5\n"
          ]
        },
        {
          "output_type": "stream",
          "name": "stderr",
          "text": [
            "WARNING:absl:You are saving your model as an HDF5 file via `model.save()` or `keras.saving.save_model(model)`. This file format is considered legacy. We recommend using instead the native Keras format, e.g. `model.save('my_model.keras')` or `keras.saving.save_model(model, 'my_model.keras')`. \n"
          ]
        },
        {
          "output_type": "stream",
          "name": "stdout",
          "text": [
            "Epoch 47 | Loss: 0.0440 | Acc: 99.52% | Val Loss: 0.4909 | Val Acc: 84.95%\n",
            "\n",
            "Epoch 47: val_accuracy did not improve from 0.85185\n",
            "Epoch 48 | Loss: 0.0439 | Acc: 99.42% | Val Loss: 0.4842 | Val Acc: 85.22%\n",
            "\n",
            "Epoch 48: val_accuracy improved from 0.85185 to 0.85219, saving model to modified_cnn_gtzan_10_classes.h5\n"
          ]
        },
        {
          "output_type": "stream",
          "name": "stderr",
          "text": [
            "WARNING:absl:You are saving your model as an HDF5 file via `model.save()` or `keras.saving.save_model(model)`. This file format is considered legacy. We recommend using instead the native Keras format, e.g. `model.save('my_model.keras')` or `keras.saving.save_model(model, 'my_model.keras')`. \n"
          ]
        },
        {
          "output_type": "stream",
          "name": "stdout",
          "text": [
            "Epoch 49 | Loss: 0.0432 | Acc: 99.37% | Val Loss: 0.4780 | Val Acc: 85.62%\n",
            "\n",
            "Epoch 49: val_accuracy improved from 0.85219 to 0.85623, saving model to modified_cnn_gtzan_10_classes.h5\n"
          ]
        },
        {
          "output_type": "stream",
          "name": "stderr",
          "text": [
            "WARNING:absl:You are saving your model as an HDF5 file via `model.save()` or `keras.saving.save_model(model)`. This file format is considered legacy. We recommend using instead the native Keras format, e.g. `model.save('my_model.keras')` or `keras.saving.save_model(model, 'my_model.keras')`. \n"
          ]
        },
        {
          "output_type": "stream",
          "name": "stdout",
          "text": [
            "Epoch 50 | Loss: 0.0436 | Acc: 99.51% | Val Loss: 0.4807 | Val Acc: 85.42%\n",
            "\n",
            "Epoch 50: val_accuracy did not improve from 0.85623\n",
            "Restoring model weights from the end of the best epoch: 49.\n"
          ]
        },
        {
          "output_type": "stream",
          "name": "stderr",
          "text": [
            "WARNING:absl:Compiled the loaded model, but the compiled metrics have yet to be built. `model.compile_metrics` will be empty until you train or evaluate the model.\n"
          ]
        },
        {
          "output_type": "stream",
          "name": "stdout",
          "text": [
            "Final Test Accuracy: 85.62%\n"
          ]
        },
        {
          "output_type": "display_data",
          "data": {
            "text/plain": [
              "<Figure size 1200x400 with 2 Axes>"
            ],
            "image/png": "[encoded data removed]"
          },
          "metadata": {}
        },
        {
          "output_type": "stream",
          "name": "stdout",
          "text": [
            "==================================================\n",
            "FINAL RESULTS\n",
            "Classes: ['country', 'jazz', 'hiphop', 'blues', 'rock', 'classical', 'metal', 'disco', 'pop', 'reggae']\n",
            "Samples: Train=6930, Test=2970\n",
            "Model saved to: modified_cnn_gtzan_10_classes.h5\n",
            "==================================================\n"
          ]
        }
      ],
      "source": [
        "import os\n",
        "import json\n",
        "import math\n",
        "import numpy as np\n",
        "from tqdm import tqdm\n",
        "from sklearn.model_selection import train_test_split\n",
        "import librosa\n",
        "\n",
        "import tensorflow as tf\n",
        "from tensorflow import keras\n",
        "from tensorflow.keras import layers, models, optimizers, callbacks\n",
        "from tensorflow.keras.utils import to_categorical\n",
        "\n",
        "# Install kagglehub if not already installed (for Colab compatibility)\n",
        "try:\n",
        "    import kagglehub\n",
        "except ImportError:\n",
        "    print(\"Installing kagglehub...\")\n",
        "    !pip install kagglehub\n",
        "    import kagglehub\n",
        "\n",
        "# Step 0: Download the GTZAN dataset using KaggleHub\n",
        "print(\"Downloading GTZAN dataset from KaggleHub...\")\n",
        "print(\"Note: Works automatically in Google Colab!\")\n",
        "try:\n",
        "    download_path = kagglehub.dataset_download(\"andradaolteanu/gtzan-dataset-music-genre-classification\")\n",
        "    print(\"Downloaded dataset path:\", download_path)\n",
        "except Exception as e:\n",
        "    print(f\"Error downloading dataset: {e}\")\n",
        "    print(\"If using Colab, make sure Kaggle is authenticated.\")\n",
        "    print(\"Upload your kaggle.json file if needed.\")\n",
        "    raise\n",
        "\n",
        "# Try locating the actual audio dataset folder\n",
        "GENRE_DATA_PATH = os.path.join(download_path, \"Data\", \"genres_original\")\n",
        "print(\"Looking for audio data at:\", GENRE_DATA_PATH)\n",
        "if not os.path.exists(GENRE_DATA_PATH):\n",
        "    GENRE_DATA_PATH_ALT = os.path.join(download_path, \"genres_original\")\n",
        "    if os.path.exists(GENRE_DATA_PATH_ALT):\n",
        "        GENRE_DATA_PATH = GENRE_DATA_PATH_ALT\n",
        "        print(\"Found alternative data path:\", GENRE_DATA_PATH)\n",
        "    else:\n",
        "        print(\"ERROR: Genre folder not found.\")\n",
        "        exit()\n",
        "\n",
        "# Global constants and configurations\n",
        "JSON_PATH = \"data_gtzan.json\"\n",
        "MODEL_SAVE_PATH = \"modified_cnn_gtzan_10_classes.h5\"\n",
        "SAMPLE_RATE = 22050\n",
        "DURATION = 30\n",
        "SAMPLES_PER_TRACK = SAMPLE_RATE * DURATION\n",
        "N_MFCC = 13\n",
        "N_FFT = 2048\n",
        "HOP_LENGTH = 512\n",
        "NUM_SEGMENTS = 10\n",
        "\n",
        "# Training parameters\n",
        "BATCH_SIZE = 32\n",
        "EPOCHS = 50\n",
        "LEARNING_RATE = 0.0001\n",
        "TEST_SPLIT = 0.3\n",
        "RANDOM_STATE = 42\n",
        "\n",
        "# Step 1: Extract MFCCs and save as JSON\n",
        "def preprocess_dataset(audio_source_path, json_path, num_mfcc=N_MFCC, n_fft=N_FFT, hop_length=HOP_LENGTH, num_segments=NUM_SEGMENTS, sample_rate=SAMPLE_RATE):\n",
        "    \"\"\"Extracts MFCC features from audio files and saves them to a JSON file.\"\"\"\n",
        "    print(\"Starting preprocessing...\")\n",
        "    data = {\"mapping\": [], \"mfcc\": [], \"labels\": []}\n",
        "\n",
        "    samples_per_segment = int(SAMPLES_PER_TRACK / num_segments)\n",
        "    num_mfcc_vectors_per_segment = math.ceil(samples_per_segment / hop_length)\n",
        "    print(f\"Samples per segment: {samples_per_segment}\")\n",
        "    print(f\"MFCC vectors per segment: {num_mfcc_vectors_per_segment}\")\n",
        "\n",
        "    if not os.path.exists(audio_source_path):\n",
        "        print(f\"ERROR: Path not found: {audio_source_path}\")\n",
        "        return False\n",
        "\n",
        "    genre_count = 0\n",
        "    for i, (dirpath, dirnames, filenames) in enumerate(tqdm(os.walk(audio_source_path), desc=\"Processing Genres\")):\n",
        "        if dirpath != audio_source_path:\n",
        "            semantic_label = os.path.basename(dirpath)\n",
        "            if semantic_label.startswith('.'):\n",
        "                continue\n",
        "\n",
        "            data[\"mapping\"].append(semantic_label)\n",
        "            print(f\"\\nGenre {genre_count + 1}: {semantic_label}\")\n",
        "\n",
        "            for f in tqdm(filenames, desc=f\"Files in {semantic_label}\", leave=False):\n",
        "                if f.lower().endswith('.wav'):\n",
        "                    file_path = os.path.join(dirpath, f)\n",
        "                    try:\n",
        "                        signal, sr = librosa.load(file_path, sr=sample_rate)\n",
        "                        if len(signal) >= SAMPLES_PER_TRACK:\n",
        "                            for seg in range(num_segments):\n",
        "                                start = samples_per_segment * seg\n",
        "                                end = start + samples_per_segment\n",
        "                                mfcc = librosa.feature.mfcc(y=signal[start:end], sr=sr, n_fft=n_fft, n_mfcc=num_mfcc, hop_length=hop_length)\n",
        "                                mfcc = mfcc.T\n",
        "\n",
        "                                if len(mfcc) == num_mfcc_vectors_per_segment:\n",
        "                                    data[\"mfcc\"].append(mfcc.tolist())\n",
        "                                    data[\"labels\"].append(genre_count)\n",
        "                    except Exception as e:\n",
        "                        print(f\"Error processing {file_path}: {e}\")\n",
        "            genre_count += 1\n",
        "\n",
        "    if not data[\"mapping\"]:\n",
        "        print(\"No genre data found. Check input folder.\")\n",
        "        return False\n",
        "\n",
        "    try:\n",
        "        with open(json_path, \"w\") as fp:\n",
        "            json.dump(data, fp, indent=4)\n",
        "        print(f\"\\nPreprocessing complete. Total segments: {len(data['mfcc'])}\")\n",
        "        return True\n",
        "    except Exception as e:\n",
        "        print(f\"Error saving data: {e}\")\n",
        "        return False\n",
        "\n",
        "# Step 2: Load the preprocessed data\n",
        "def load_data(data_path):\n",
        "    \"\"\"Loads preprocessed MFCC data and returns numpy arrays.\"\"\"\n",
        "    try:\n",
        "        with open(data_path, \"r\") as fp:\n",
        "            data = json.load(fp)\n",
        "    except Exception as e:\n",
        "        raise e\n",
        "\n",
        "    mfccs = np.array(data[\"mfcc\"], dtype=np.float32)\n",
        "    labels = np.array(data[\"labels\"])\n",
        "    mapping = data[\"mapping\"]\n",
        "\n",
        "    if mfccs.size == 0:\n",
        "        raise ValueError(\"Empty MFCC data.\")\n",
        "\n",
        "    mfccs = mfccs[..., np.newaxis]  # Add channel dim\n",
        "    mfccs = np.transpose(mfccs, (0, 2, 1, 3))  # Adjust for CNN input\n",
        "\n",
        "    return mfccs, labels, mapping\n",
        "\n",
        "# Step 3: Define the CNN model architecture\n",
        "def create_modified_cnn(input_shape, num_classes):\n",
        "    \"\"\"Builds and returns a CNN model for audio classification.\"\"\"\n",
        "    model = models.Sequential([\n",
        "        layers.Input(shape=input_shape),\n",
        "        layers.Conv2D(256, (3, 3), padding='same', activation='relu'),\n",
        "        layers.MaxPooling2D((3, 3), strides=(2, 2), padding='same'),\n",
        "        layers.BatchNormalization(),\n",
        "\n",
        "        layers.Conv2D(128, (3, 3), padding='same', activation='relu'),\n",
        "        layers.MaxPooling2D((3, 3), strides=(2, 2), padding='same'),\n",
        "        layers.BatchNormalization(),\n",
        "\n",
        "        layers.Conv2D(64, (3, 3), padding='same', activation='relu'),\n",
        "        layers.MaxPooling2D((2, 2), strides=(2, 2)),\n",
        "        layers.BatchNormalization(),\n",
        "\n",
        "        layers.Conv2D(64, (2, 2), padding='same', activation='relu'),\n",
        "        layers.MaxPooling2D((2, 2), strides=(2, 2)),\n",
        "        layers.BatchNormalization(),\n",
        "\n",
        "        layers.Flatten(),\n",
        "        layers.Dense(64, activation='relu'),\n",
        "        layers.Dropout(0.2),\n",
        "        layers.Dense(num_classes, activation='softmax')\n",
        "    ])\n",
        "    return model\n",
        "\n",
        "# Step 4: Custom callback to show live training progress\n",
        "class DetailedTrainingCallback(callbacks.Callback):\n",
        "    def on_epoch_end(self, epoch, logs=None):\n",
        "        logs = logs or {}\n",
        "        print(f\"Epoch {epoch+1} | Loss: {logs.get('loss', 0):.4f} | Acc: {logs.get('accuracy', 0)*100:.2f}% | Val Loss: {logs.get('val_loss', 0):.4f} | Val Acc: {logs.get('val_accuracy', 0)*100:.2f}%\")\n",
        "\n",
        "# Step 5: Run the full pipeline\n",
        "if __name__ == \"__main__\":\n",
        "    print(\"GTZAN Music Genre Classification Pipeline\")\n",
        "    print(\"=\"*60)\n",
        "\n",
        "    # Set seeds\n",
        "    tf.random.set_seed(RANDOM_STATE)\n",
        "    np.random.seed(RANDOM_STATE)\n",
        "\n",
        "    # Check for GPU\n",
        "    print(f\"TensorFlow version: {tf.__version__}\")\n",
        "    gpus = tf.config.list_physical_devices('GPU')\n",
        "    if gpus:\n",
        "        for gpu in gpus:\n",
        "            tf.config.experimental.set_memory_growth(gpu, True)\n",
        "        print(f\"Using GPU: {gpus[0]}\")\n",
        "    else:\n",
        "        print(\"No GPU found. Training on CPU.\")\n",
        "\n",
        "    # Preprocess if JSON doesn't exist\n",
        "    if not os.path.exists(JSON_PATH):\n",
        "        print(f\"\\nPreprocessing audio data...\")\n",
        "        success = preprocess_dataset(GENRE_DATA_PATH, JSON_PATH)\n",
        "        if not success:\n",
        "            print(\"Failed preprocessing. Exiting.\")\n",
        "            exit()\n",
        "    else:\n",
        "        print(f\"\\nFound existing JSON file: {JSON_PATH}\")\n",
        "\n",
        "    # Load dataset\n",
        "    try:\n",
        "        X, y, mapping = load_data(JSON_PATH)\n",
        "        INPUT_SHAPE = X.shape[1:]\n",
        "        NUM_CLASSES = len(mapping)\n",
        "    except Exception as e:\n",
        "        print(f\"Error loading data: {e}\")\n",
        "        exit()\n",
        "\n",
        "    # Split data\n",
        "    try:\n",
        "        X_train, X_test, y_train, y_test = train_test_split(X, y, test_size=TEST_SPLIT, stratify=y, random_state=RANDOM_STATE)\n",
        "        y_train_cat = to_categorical(y_train, NUM_CLASSES)\n",
        "        y_test_cat = to_categorical(y_test, NUM_CLASSES)\n",
        "    except Exception as e:\n",
        "        print(f\"Train/test split error: {e}\")\n",
        "        exit()\n",
        "\n",
        "    # Build and compile model\n",
        "    try:\n",
        "        model = create_modified_cnn(INPUT_SHAPE, NUM_CLASSES)\n",
        "        model.compile(optimizer=optimizers.Adam(learning_rate=LEARNING_RATE), loss='categorical_crossentropy', metrics=['accuracy'])\n",
        "        model.summary()\n",
        "    except Exception as e:\n",
        "        print(f\"Model creation error: {e}\")\n",
        "        exit()\n",
        "\n",
        "    # Define training callbacks\n",
        "    callback_list = [\n",
        "        DetailedTrainingCallback(),\n",
        "        callbacks.ModelCheckpoint(MODEL_SAVE_PATH, monitor='val_accuracy', save_best_only=True, mode='max', verbose=1),\n",
        "        callbacks.EarlyStopping(monitor='val_accuracy', patience=10, restore_best_weights=True, verbose=1),\n",
        "        callbacks.ReduceLROnPlateau(monitor='val_loss', factor=0.5, patience=5, min_lr=1e-7, verbose=1)\n",
        "    ]\n",
        "\n",
        "    # Train the model\n",
        "    try:\n",
        "        history = model.fit(X_train, y_train_cat, batch_size=BATCH_SIZE, epochs=EPOCHS, validation_data=(X_test, y_test_cat), callbacks=callback_list, verbose=0)\n",
        "    except Exception as e:\n",
        "        print(f\"Training error: {e}\")\n",
        "        exit()\n",
        "\n",
        "    # Evaluate the model\n",
        "    try:\n",
        "        best_model = keras.models.load_model(MODEL_SAVE_PATH)\n",
        "        test_loss, test_accuracy = best_model.evaluate(X_test, y_test_cat, verbose=0)\n",
        "        print(f\"Final Test Accuracy: {test_accuracy*100:.2f}%\")\n",
        "    except Exception as e:\n",
        "        print(f\"Evaluation error: {e}\")\n",
        "\n",
        "    # Optional: Plot training results\n",
        "    try:\n",
        "        import matplotlib.pyplot as plt\n",
        "        fig, (ax1, ax2) = plt.subplots(1, 2, figsize=(12, 4))\n",
        "        ax1.plot(history.history['accuracy'], label='Train Acc')\n",
        "        ax1.plot(history.history['val_accuracy'], label='Val Acc')\n",
        "        ax1.set_title('Accuracy')\n",
        "        ax1.legend()\n",
        "        ax2.plot(history.history['loss'], label='Train Loss')\n",
        "        ax2.plot(history.history['val_loss'], label='Val Loss')\n",
        "        ax2.set_title('Loss')\n",
        "        ax2.legend()\n",
        "        plt.tight_layout()\n",
        "        plt.savefig('training_history.png')\n",
        "        plt.show()\n",
        "    except Exception as e:\n",
        "        print(f\"Plotting error: {e}\")\n",
        "\n",
        "    # Print summary\n",
        "    print(\"=\"*50)\n",
        "    print(\"FINAL RESULTS\")\n",
        "    print(f\"Classes: {mapping}\")\n",
        "    print(f\"Samples: Train={len(X_train)}, Test={len(X_test)}\")\n",
        "    print(f\"Model saved to: {MODEL_SAVE_PATH}\")\n",
        "    print(\"=\"*50)\n"
      ]
    }
  ]
}